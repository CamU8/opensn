{
 "cells": [
  {
   "cell_type": "code",
   "execution_count": 1,
   "id": "9020e4e7-7578-4c7c-8f85-400ede774ba4",
   "metadata": {},
   "outputs": [],
   "source": [
    "import gmsh"
   ]
  },
  {
   "cell_type": "code",
   "execution_count": 19,
   "id": "8d37bc82-dc03-4c64-bcef-0440d2bd88b4",
   "metadata": {},
   "outputs": [],
   "source": [
    "gmsh.initialize()\n",
    "gmsh.model.add(\"mesh_with_occt\")"
   ]
  },
  {
   "cell_type": "code",
   "execution_count": 20,
   "id": "aca79bbd-c25e-465f-ba74-d5ee1118447e",
   "metadata": {},
   "outputs": [],
   "source": [
    "inner_radius1 = 1/3\n",
    "inner_radius2 = 2/3\n",
    "outer_radius = 1.\n",
    "\n",
    "outer_sphere = gmsh.model.occ.addSphere(0, 0, 0, outer_radius)\n",
    "inner_sphere2 = gmsh.model.occ.addSphere(0, 0, 0, inner_radius2)\n",
    "inner_sphere1 = gmsh.model.occ.addSphere(0, 0, 0, inner_radius1)"
   ]
  },
  {
   "cell_type": "code",
   "execution_count": 21,
   "id": "3649ad95-a4d1-4a23-9aa7-16cc59207a84",
   "metadata": {},
   "outputs": [
    {
     "name": "stdout",
     "output_type": "stream",
     "text": [
      "Cut Result 1 ([(3, 1)], [[(3, 1)], []])                                                                                   \n"
     ]
    }
   ],
   "source": [
    "cut_result1 = gmsh.model.occ.cut([(3,outer_sphere)],[(3,inner_sphere2)], removeTool=False)\n",
    "print(\"Cut Result 1\", cut_result1)"
   ]
  },
  {
   "cell_type": "code",
   "execution_count": 22,
   "id": "a969dad1-797a-461d-a316-e0a4dbb8f398",
   "metadata": {},
   "outputs": [],
   "source": [
    "gmsh.model.occ.synchronize()"
   ]
  },
  {
   "cell_type": "code",
   "execution_count": 23,
   "id": "a1df641c-524e-4685-8087-b505f7f494e3",
   "metadata": {},
   "outputs": [
    {
     "name": "stdout",
     "output_type": "stream",
     "text": [
      "Volumes: [(3, 1), (3, 2), (3, 3)]\n"
     ]
    }
   ],
   "source": [
    "volEntities = gmsh.model.getEntities(3)\n",
    "print(\"Volumes:\", volEntities)\n",
    "shell_volume1 = None\n",
    "for (dim, tag) in volEntities:\n",
    "    if tag != inner_sphere1 and tag != inner_sphere2:\n",
    "        shell_volume1 = tag\n",
    "        break\n",
    "if shell_volume1 is None:\n",
    "    raise RuntimeError(\"Could not identify the shell volume.\")"
   ]
  },
  {
   "cell_type": "code",
   "execution_count": 24,
   "id": "e537f272-bd73-4c92-8d4b-0aa5203c67b6",
   "metadata": {},
   "outputs": [
    {
     "name": "stdout",
     "output_type": "stream",
     "text": [
      "Cut Result 2 ([(3, 2)], [[(3, 2)], []])les                                                                                \n",
      "                                                                                "
     ]
    }
   ],
   "source": [
    "cut_result2 = gmsh.model.occ.cut([(3,inner_sphere2)],[(3,inner_sphere1)], removeTool=False)\n",
    "print(\"Cut Result 2\", cut_result2)"
   ]
  },
  {
   "cell_type": "code",
   "execution_count": 25,
   "id": "cbbbe12e-0113-428a-af32-eb1e01619898",
   "metadata": {},
   "outputs": [],
   "source": [
    "gmsh.model.occ.synchronize()"
   ]
  },
  {
   "cell_type": "code",
   "execution_count": 26,
   "id": "9e160225-f9e6-4012-a9ee-fd2a1b6cdd29",
   "metadata": {},
   "outputs": [
    {
     "name": "stdout",
     "output_type": "stream",
     "text": [
      "Volumes: [(3, 1), (3, 2), (3, 3)]\n"
     ]
    }
   ],
   "source": [
    "volEntities = gmsh.model.getEntities(3)\n",
    "print(\"Volumes:\", volEntities)\n",
    "shell_volume2 = None\n",
    "for (dim, tag) in volEntities:\n",
    "    if tag != inner_sphere1 and tag != shell_volume1:\n",
    "        shell_volume2 = tag\n",
    "        break\n",
    "if shell_volume2 is None:\n",
    "    raise RuntimeError(\"Could not identify the shell volume.\")"
   ]
  },
  {
   "cell_type": "code",
   "execution_count": 27,
   "id": "f73dc6b2-6890-406e-93cc-fa1ff18c6aba",
   "metadata": {},
   "outputs": [
    {
     "name": "stdout",
     "output_type": "stream",
     "text": [
      "3\n",
      "1\n",
      "2\n"
     ]
    }
   ],
   "source": [
    "print(inner_sphere1)\n",
    "print(shell_volume1)\n",
    "print(shell_volume2)"
   ]
  },
  {
   "cell_type": "code",
   "execution_count": 28,
   "id": "3b2517ed-4b00-4ba6-bf8d-355c688e2f38",
   "metadata": {},
   "outputs": [],
   "source": [
    "# Define physical groups for the inner sphere and shell\n",
    "gmsh.model.addPhysicalGroup(3, [inner_sphere1], tag=1)\n",
    "gmsh.model.setPhysicalName(3, 1, \"Inner\")\n",
    "gmsh.model.addPhysicalGroup(3, [shell_volume1], tag=3)\n",
    "gmsh.model.setPhysicalName(3, 2, \"Shell 1\")\n",
    "gmsh.model.addPhysicalGroup(3, [shell_volume2], tag=2)\n",
    "gmsh.model.setPhysicalName(3, 2, \"Shell2\")\n",
    "# Create a MathEval field to control the mesh size based on z.\n",
    "fieldTag = gmsh.model.mesh.field.add(\"MathEval\")"
   ]
  },
  {
   "cell_type": "code",
   "execution_count": 29,
   "id": "dec22544-8477-4ac8-af38-c4c32f74c898",
   "metadata": {},
   "outputs": [],
   "source": [
    "def Mesh(h=0.1, alg=6):\n",
    "    gmsh.option.setNumber(\"Mesh.MeshSizeExtendFromBoundary\", 0)\n",
    "    gmsh.option.setNumber(\"Mesh.MeshSizeFromPoints\", 0)\n",
    "    gmsh.option.setNumber(\"Mesh.MeshSizeFromCurvature\", 0)\n",
    "    gmsh.option.setNumber(\"Mesh.MeshSizeMax\", h)\n",
    "\n",
    "    # Export Mesh to specified version for OpenSn\n",
    "    gmsh.option.setNumber(\"Mesh.MshFileVersion\",2.2)\n",
    "    gmsh.option.setNumber(\"Mesh.Algorithm\", alg)\n",
    "\n",
    "    gmsh.model.mesh.generate(3)\n",
    "    gmsh.write(\"problem_one.msh\")"
   ]
  },
  {
   "cell_type": "code",
   "execution_count": 30,
   "id": "57866bde-90f7-4799-ab57-f0c036c516f8",
   "metadata": {},
   "outputs": [
    {
     "name": "stdout",
     "output_type": "stream",
     "text": [
      "Info    : Meshing 1D...\n",
      "Info    : [ 20%] Meshing curve 5 (Circle)\n",
      "Info    : [ 50%] Meshing curve 8 (Circle)\n",
      "Info    : [ 80%] Meshing curve 11 (Circle)\n",
      "Info    : Done meshing 1D (Wall 0.000820797s, CPU 0.001205s)\n",
      "Info    : Meshing 2D...\n",
      "Info    : [  0%] Meshing surface 2 (Sphere, Frontal-Delaunay)\n",
      "Info    : [ 40%] Meshing surface 3 (Sphere, Frontal-Delaunay)\n",
      "Info    : [ 70%] Meshing surface 4 (Sphere, Frontal-Delaunay)\n",
      "Info    : Done meshing 2D (Wall 0.088087s, CPU 0.080112s)\n",
      "Info    : Meshing 3D...\n",
      "Info    : 3D Meshing 3 volumes with 1 connected component\n",
      "Info    : Tetrahedrizing 2399 nodes...\n",
      "Info    : Done tetrahedrizing 2407 nodes (Wall 0.0180729s, CPU 0.01672s)\n",
      "Info    : Reconstructing mesh...\n",
      "Info    :  - Creating surface mesh\n",
      "Info    :  - Identifying boundary edges\n",
      "Info    :  - Recovering boundary\n",
      "Info    : Done reconstructing mesh (Wall 0.0390895s, CPU 0.027407s)\n",
      "Info    : Found volume 3\n",
      "Info    : Found volume 2\n",
      "Info    : Found volume 1\n",
      "Info    : It. 0 - 0 nodes created - worst tet radius 3.64538 (nodes removed 0 0)\n",
      "Info    : It. 500 - 499 nodes created - worst tet radius 1.33641 (nodes removed 0 1)\n",
      "Info    : It. 1000 - 999 nodes created - worst tet radius 1.15831 (nodes removed 0 1)\n",
      "Info    : It. 1500 - 1498 nodes created - worst tet radius 1.07842 (nodes removed 0 2)\n",
      "Info    : 3D refinement terminated (4260 nodes total):\n",
      "Info    :  - 1 Delaunay cavities modified for star shapeness\n",
      "Info    :  - 2 nodes could not be inserted\n",
      "Info    :  - 21888 tetrahedra created in 0.073314 sec. (298551 tets/s)\n",
      "Info    : 0 node relocations\n",
      "Info    : Done meshing 3D (Wall 0.196568s, CPU 0.174752s)\n",
      "Info    : Optimizing mesh...\n",
      "Info    : Optimizing volume 1\n",
      "Info    : Optimization starts (volume = 2.94248) with worst = 0.0152644 / average = 0.764564:\n",
      "Info    : 0.00 < quality < 0.10 :        40 elements\n",
      "Info    : 0.10 < quality < 0.20 :       118 elements\n",
      "Info    : 0.20 < quality < 0.30 :       175 elements\n",
      "Info    : 0.30 < quality < 0.40 :       309 elements\n",
      "Info    : 0.40 < quality < 0.50 :       385 elements\n",
      "Info    : 0.50 < quality < 0.60 :       749 elements\n",
      "Info    : 0.60 < quality < 0.70 :      1916 elements\n",
      "Info    : 0.70 < quality < 0.80 :      4133 elements\n",
      "Info    : 0.80 < quality < 0.90 :      4996 elements\n",
      "Info    : 0.90 < quality < 1.00 :      2445 elements\n",
      "Info    : 325 edge swaps, 8 node relocations (volume = 2.94248): worst = 0.1717 / average = 0.777878 (Wall 0.00374241s, CPU 0.003575s)\n",
      "Info    : 331 edge swaps, 8 node relocations (volume = 2.94248): worst = 0.184662 / average = 0.778067 (Wall 0.00460071s, CPU 0.004446s)\n",
      "Info    : 333 edge swaps, 8 node relocations (volume = 2.94248): worst = 0.301057 / average = 0.778172 (Wall 0.00545826s, CPU 0.005289s)\n",
      "Info    : No ill-shaped tets in the mesh :-)\n",
      "Info    : 0.00 < quality < 0.10 :         0 elements\n",
      "Info    : 0.10 < quality < 0.20 :         0 elements\n",
      "Info    : 0.20 < quality < 0.30 :         0 elements\n",
      "Info    : 0.30 < quality < 0.40 :       295 elements\n",
      "Info    : 0.40 < quality < 0.50 :       378 elements\n",
      "Info    : 0.50 < quality < 0.60 :       767 elements\n",
      "Info    : 0.60 < quality < 0.70 :      1917 elements\n",
      "Info    : 0.70 < quality < 0.80 :      4072 elements\n",
      "Info    : 0.80 < quality < 0.90 :      5091 elements\n",
      "Info    : 0.90 < quality < 1.00 :      2445 elements\n",
      "Info    : Optimizing volume 2\n",
      "Info    : Optimization starts (volume = 1.0807) with worst = 0.00453196 / average = 0.764456:\n",
      "Info    : 0.00 < quality < 0.10 :        14 elements\n",
      "Info    : 0.10 < quality < 0.20 :        40 elements\n",
      "Info    : 0.20 < quality < 0.30 :        54 elements\n",
      "Info    : 0.30 < quality < 0.40 :       101 elements\n",
      "Info    : 0.40 < quality < 0.50 :       186 elements\n",
      "Info    : 0.50 < quality < 0.60 :       270 elements\n",
      "Info    : 0.60 < quality < 0.70 :       770 elements\n",
      "Info    : 0.70 < quality < 0.80 :      1508 elements\n",
      "Info    : 0.80 < quality < 0.90 :      1979 elements\n",
      "Info    : 0.90 < quality < 1.00 :       854 elements\n",
      "Info    : 108 edge swaps, 3 node relocations (volume = 1.0807): worst = 0.300358 / average = 0.776964 (Wall 0.00152966s, CPU 0.001538s)\n",
      "Info    : No ill-shaped tets in the mesh :-)\n",
      "Info    : 0.00 < quality < 0.10 :         0 elements\n",
      "Info    : 0.10 < quality < 0.20 :         0 elements\n",
      "Info    : 0.20 < quality < 0.30 :         0 elements\n",
      "Info    : 0.30 < quality < 0.40 :        96 elements\n",
      "Info    : 0.40 < quality < 0.50 :       177 elements\n",
      "Info    : 0.50 < quality < 0.60 :       264 elements\n",
      "Info    : 0.60 < quality < 0.70 :       777 elements\n",
      "Info    : 0.70 < quality < 0.80 :      1488 elements\n",
      "Info    : 0.80 < quality < 0.90 :      2016 elements\n",
      "Info    : 0.90 < quality < 1.00 :       856 elements\n",
      "Info    : Optimizing volume 3\n",
      "Info    : Optimization starts (volume = 0.150327) with worst = 0.044827 / average = 0.749384:\n",
      "Info    : 0.00 < quality < 0.10 :         1 elements\n",
      "Info    : 0.10 < quality < 0.20 :         6 elements\n",
      "Info    : 0.20 < quality < 0.30 :        13 elements\n",
      "Info    : 0.30 < quality < 0.40 :        18 elements\n",
      "Info    : 0.40 < quality < 0.50 :        19 elements\n",
      "Info    : 0.50 < quality < 0.60 :        46 elements\n",
      "Info    : 0.60 < quality < 0.70 :       130 elements\n",
      "Info    : 0.70 < quality < 0.80 :       249 elements\n",
      "Info    : 0.80 < quality < 0.90 :       278 elements\n",
      "Info    : 0.90 < quality < 1.00 :        86 elements\n",
      "Info    : 20 edge swaps, 0 node relocations (volume = 0.150327): worst = 0.308056 / average = 0.764315 (Wall 0.000254349s, CPU 0s)\n",
      "Info    : No ill-shaped tets in the mesh :-)\n",
      "Info    : 0.00 < quality < 0.10 :         0 elements\n",
      "Info    : 0.10 < quality < 0.20 :         0 elements\n",
      "Info    : 0.20 < quality < 0.30 :         0 elements\n",
      "Info    : 0.30 < quality < 0.40 :        15 elements\n",
      "Info    : 0.40 < quality < 0.50 :        17 elements\n",
      "Info    : 0.50 < quality < 0.60 :        48 elements\n",
      "Info    : 0.60 < quality < 0.70 :       126 elements\n",
      "Info    : 0.70 < quality < 0.80 :       259 elements\n",
      "Info    : 0.80 < quality < 0.90 :       277 elements\n",
      "Info    : 0.90 < quality < 1.00 :        85 elements\n",
      "Info    : Done optimizing mesh (Wall 0.0264328s, CPU 0.022508s)\n",
      "Info    : 4260 nodes 26322 elements\n",
      "Info    : Writing 'problem_one.msh'...\n",
      "Info    : Done writing 'problem_one.msh'\n"
     ]
    }
   ],
   "source": [
    "gmsh.model.mesh.field.setString(fieldTag, \"F\", \"0.99\")\n",
    "# Use this field as the background mesh field.\n",
    "gmsh.model.mesh.field.setAsBackgroundMesh(fieldTag)\n",
    "# Generate the 3D mesh\n",
    "Mesh()"
   ]
  },
  {
   "cell_type": "code",
   "execution_count": 31,
   "id": "6d30e4ad-c0df-4bd6-b7ec-f418a9a6dbae",
   "metadata": {},
   "outputs": [
    {
     "name": "stdout",
     "output_type": "stream",
     "text": [
      "Info    : Writing 'vtk_meshes/three_spheres.vtk'...\n",
      "Info    : Done writing 'vtk_meshes/three_spheres.vtk'\n"
     ]
    }
   ],
   "source": [
    "# Save mesh in VTK format\n",
    "gmsh.write(\"vtk_meshes/three_spheres.vtk\")"
   ]
  },
  {
   "cell_type": "code",
   "execution_count": 18,
   "id": "59904341-7b3b-4184-bfe4-78921dca36d2",
   "metadata": {},
   "outputs": [],
   "source": [
    "gmsh.finalize()"
   ]
  },
  {
   "cell_type": "code",
   "execution_count": null,
   "id": "e8d77293-88a9-4b7e-a77d-4cd2eafb7cbf",
   "metadata": {},
   "outputs": [],
   "source": []
  },
  {
   "cell_type": "code",
   "execution_count": null,
   "id": "5e32c48b-a0a1-45a8-9a1d-639900849503",
   "metadata": {},
   "outputs": [],
   "source": []
  }
 ],
 "metadata": {
  "kernelspec": {
   "display_name": "Python 3 (ipykernel)",
   "language": "python",
   "name": "python3"
  },
  "language_info": {
   "codemirror_mode": {
    "name": "ipython",
    "version": 3
   },
   "file_extension": ".py",
   "mimetype": "text/x-python",
   "name": "python",
   "nbconvert_exporter": "python",
   "pygments_lexer": "ipython3",
   "version": "3.10.12"
  }
 },
 "nbformat": 4,
 "nbformat_minor": 5
}
