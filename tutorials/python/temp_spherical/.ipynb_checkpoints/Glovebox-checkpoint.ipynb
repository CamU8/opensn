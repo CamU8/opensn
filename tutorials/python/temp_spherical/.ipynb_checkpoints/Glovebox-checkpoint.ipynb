{
 "cells": [
  {
   "cell_type": "markdown",
   "metadata": {},
   "source": [
    "# Two-Dimensional Glovebox\n",
    "\n",
    "In this problem we are going to generate an unstructured mesh for a glovebox in two-dimensions \n",
    "\n",
    "![glovebox](Glovebox.png)"
   ]
  },
  {
   "cell_type": "code",
   "execution_count": 1,
   "metadata": {},
   "outputs": [],
   "source": [
    "import numpy as np\n",
    "import sys\n",
    "import gmsh "
   ]
  },
  {
   "cell_type": "code",
   "execution_count": 2,
   "metadata": {},
   "outputs": [
    {
     "name": "stderr",
     "output_type": "stream",
     "text": [
      "Warning : Skipping unknown option '--f=/home/jason/.local/share/jupyter/runtime/kernel-v34dadaf3c741d5f8a21638a37de6170ebbea79493.json'\n"
     ]
    },
    {
     "name": "stdout",
     "output_type": "stream",
     "text": [
      "Info    : Clearing all models and views...\n",
      "Info    : Done clearing all models and views\n"
     ]
    }
   ],
   "source": [
    "gmsh.initialize(sys.argv)\n",
    "gmsh.clear()\n",
    "gmsh.model.add(\"Glovebox\")"
   ]
  },
  {
   "cell_type": "markdown",
   "metadata": {},
   "source": [
    "## Geometry\n",
    "\n",
    "Since this model can get unruley let's organize our dimensions into lists"
   ]
  },
  {
   "cell_type": "code",
   "execution_count": 3,
   "metadata": {},
   "outputs": [],
   "source": [
    "# Dimensions\n",
    "origin = 3*[0.0]\n",
    "room = [80.0, 40.0]\n",
    "\n",
    "d_src = [-1.0, 1.0]\n",
    "\n",
    "det1 = [70.0, 20.0, 0.0]\n",
    "det2 = [10.0, 20.0, 0.0]\n",
    "\n",
    "r_he3 = 2*[1.2]\n",
    "r_al = 2*[1.25]\n",
    "d_hdpe = [-4.0, 4.0]\n",
    "d_cd = [-4.025, 4.025]\n",
    "d_casing = [-4.25, 4.25]"
   ]
  },
  {
   "cell_type": "markdown",
   "metadata": {},
   "source": [
    "Let's start by building the room that will enclose the geometry"
   ]
  },
  {
   "cell_type": "code",
   "execution_count": 4,
   "metadata": {},
   "outputs": [],
   "source": [
    "# Room\n",
    "box = gmsh.model.occ.addRectangle(*origin, *room, tag=1)"
   ]
  },
  {
   "cell_type": "markdown",
   "metadata": {},
   "source": [
    "For the source we have no interior features and is a simple rectangle"
   ]
  },
  {
   "cell_type": "code",
   "execution_count": 5,
   "metadata": {},
   "outputs": [],
   "source": [
    "# Source\n",
    "src = gmsh.model.occ.addRectangle(40.0-d_src[0]/2, \n",
    "                                  20.0-d_src[0]/2, \n",
    "                                  0.0, \n",
    "                                  *d_src, \n",
    "                                  tag=2)"
   ]
  },
  {
   "cell_type": "markdown",
   "metadata": {},
   "source": [
    "The detectors is a concentric geometry with several interior layers.\n",
    "\n",
    "For our detector tags we will use tags starting from 10 for Detector-1 and from 20 for Detector-2"
   ]
  },
  {
   "cell_type": "code",
   "execution_count": 6,
   "metadata": {},
   "outputs": [],
   "source": [
    "# Detector-1\n",
    "det1_tags = [10,11,12,13,14]\n",
    "casing_1 = gmsh.model.occ.addRectangle(d_casing[0]+det1[0],\n",
    "                                       d_casing[0]+det1[1],\n",
    "                                       0.0,\n",
    "                                       2*d_casing[1],\n",
    "                                       2*d_casing[1],\n",
    "                                       tag=10)\n",
    "cd_1 = gmsh.model.occ.addRectangle(d_cd[0]+det1[0],\n",
    "                                   d_cd[0]+det1[1],\n",
    "                                   0.0,\n",
    "                                   2*d_cd[1],\n",
    "                                   2*d_cd[1],\n",
    "                                   tag=11)\n",
    "hdpe_1 = gmsh.model.occ.addRectangle(d_hdpe[0]+det1[0],\n",
    "                                     d_hdpe[0]+det1[1],\n",
    "                                     0.0,\n",
    "                                     2*d_hdpe[1],\n",
    "                                     2*d_hdpe[1],\n",
    "                                     tag=12)\n",
    "al_1 = gmsh.model.occ.addDisk(*det1, *r_al, tag=13)\n",
    "he3_1 = gmsh.model.occ.addDisk(*det1, *r_he3, tag=14)"
   ]
  },
  {
   "cell_type": "code",
   "execution_count": 7,
   "metadata": {},
   "outputs": [],
   "source": [
    "# Detector-2\n",
    "det2_tags = [20,21,22,23,24]\n",
    "casing_2 = gmsh.model.occ.addRectangle(d_casing[0]+det2[0],\n",
    "                                       d_casing[0]+det2[1],\n",
    "                                       0.0,\n",
    "                                       2*d_casing[1],\n",
    "                                       2*d_casing[1],\n",
    "                                       tag=20)\n",
    "cd_2 = gmsh.model.occ.addRectangle(d_cd[0]+det2[0],\n",
    "                                   d_cd[0]+det2[1],\n",
    "                                   0.0,\n",
    "                                   2*d_cd[1],\n",
    "                                   2*d_cd[1],\n",
    "                                   tag=21)\n",
    "hdpe_2 = gmsh.model.occ.addRectangle(d_hdpe[0]+det2[0],\n",
    "                                     d_hdpe[0]+det2[1],\n",
    "                                     0.0,\n",
    "                                     2*d_hdpe[1],\n",
    "                                     2*d_hdpe[1],\n",
    "                                     tag=22)\n",
    "al_2 = gmsh.model.occ.addDisk(*det2, *r_al, tag=23)\n",
    "he3_2 = gmsh.model.occ.addDisk(*det2, *r_he3, tag=24)"
   ]
  },
  {
   "cell_type": "code",
   "execution_count": 8,
   "metadata": {},
   "outputs": [],
   "source": [
    "gmsh.model.occ.synchronize()"
   ]
  },
  {
   "cell_type": "markdown",
   "metadata": {},
   "source": [
    "## Boolean Operations"
   ]
  },
  {
   "cell_type": "code",
   "execution_count": 9,
   "metadata": {},
   "outputs": [
    {
     "name": "stdout",
     "output_type": "stream",
     "text": [
      "                                                                                                                          \r"
     ]
    }
   ],
   "source": [
    "# Subtract the source and detector casings from the glovebox\n",
    "gmsh.model.occ.cut([(2,box)],\n",
    "                   [(2,src),(2,casing_1),(2,casing_2)],\n",
    "                   removeTool=False)\n",
    "gmsh.model.occ.synchronize()"
   ]
  },
  {
   "cell_type": "code",
   "execution_count": 10,
   "metadata": {},
   "outputs": [
    {
     "name": "stdout",
     "output_type": "stream",
     "text": [
      "                                                                                                                                               \r"
     ]
    }
   ],
   "source": [
    "# Detector-1, sequently subtract each layer\n",
    "gmsh.model.occ.cut([(2,casing_1)],\n",
    "                   [(2,cd_1)],\n",
    "                   removeTool=False)\n",
    "gmsh.model.occ.cut([(2,cd_1)],\n",
    "                   [(2,hdpe_1)],\n",
    "                   removeTool=False)\n",
    "gmsh.model.occ.cut([(2,hdpe_1)],\n",
    "                   [(2,al_1)],\n",
    "                   removeTool=False)\n",
    "gmsh.model.occ.cut([(2,al_1)],\n",
    "                   [(2,he3_1)],\n",
    "                   removeTool=False)\n",
    "gmsh.model.occ.synchronize()"
   ]
  },
  {
   "cell_type": "code",
   "execution_count": 11,
   "metadata": {},
   "outputs": [
    {
     "name": "stdout",
     "output_type": "stream",
     "text": [
      "                                                                                                                                               \r"
     ]
    }
   ],
   "source": [
    "# Detector-2, sequently subtract each layer\n",
    "gmsh.model.occ.cut([(2,casing_2)],\n",
    "                   [(2,cd_2)],\n",
    "                   removeTool=False)\n",
    "gmsh.model.occ.cut([(2,cd_2)],\n",
    "                   [(2,hdpe_2)],\n",
    "                   removeTool=False)\n",
    "gmsh.model.occ.cut([(2,hdpe_2)],\n",
    "                   [(2,al_2)],\n",
    "                   removeTool=False)\n",
    "gmsh.model.occ.cut([(2,al_2)],\n",
    "                   [(2,he3_2)],\n",
    "                   removeTool=False)\n",
    "gmsh.model.occ.synchronize()"
   ]
  },
  {
   "cell_type": "markdown",
   "metadata": {},
   "source": [
    "## Mesh"
   ]
  },
  {
   "cell_type": "code",
   "execution_count": 12,
   "metadata": {},
   "outputs": [],
   "source": [
    "def Mesh(h=1.0, alg=6):\n",
    "    gmsh.option.setNumber(\"Mesh.MeshSizeExtendFromBoundary\", 0)\n",
    "    gmsh.option.setNumber(\"Mesh.MeshSizeFromPoints\", 0)\n",
    "    gmsh.option.setNumber(\"Mesh.MeshSizeFromCurvature\", 0)\n",
    "    gmsh.option.setNumber(\"Mesh.MeshSizeMax\", h)\n",
    "\n",
    "    # Export Mesh to specified version for OpenSn\n",
    "    gmsh.option.setNumber(\"Mesh.MshFileVersion\",2.2)\n",
    "    gmsh.option.setNumber(\"Mesh.Algorithm\", alg)\n",
    "\n",
    "    # gmsh.model.mesh.generate(2)\n",
    "    gmsh.model.mesh.generate(2)\n",
    "    gmsh.write(\"Glovebox.msh\")\n",
    "    # gmsh.write(\"Glovebox.vtk\")\n",
    "\n",
    "    if '-nopopup' not in sys.argv:\n",
    "        gmsh.fltk.run()"
   ]
  },
  {
   "cell_type": "code",
   "execution_count": 13,
   "metadata": {},
   "outputs": [
    {
     "name": "stdout",
     "output_type": "stream",
     "text": [
      "1\n",
      "2\n",
      "10\n",
      "11\n",
      "12\n",
      "13\n",
      "14\n",
      "20\n",
      "21\n",
      "22\n",
      "23\n",
      "24\n"
     ]
    }
   ],
   "source": [
    "for tag in gmsh.model.getEntities(2):\n",
    "    print(tag[1])"
   ]
  },
  {
   "cell_type": "code",
   "execution_count": 14,
   "metadata": {},
   "outputs": [],
   "source": [
    "# Recombine triangles into quadrangles\n",
    "for tag in gmsh.model.getEntities(2):\n",
    "    gmsh.model.mesh.setRecombine(dim=2,tag=tag[1])"
   ]
  },
  {
   "cell_type": "markdown",
   "metadata": {},
   "source": [
    "Adding quadrangles can \"break\" the mesh because the Cd layer is too thin. You get poorly shaped corners that intersect other regions of the geometry."
   ]
  },
  {
   "cell_type": "markdown",
   "metadata": {},
   "source": [
    "## Mesh Fields\n",
    "\n",
    "The order of connectivity does effect the mesh field."
   ]
  },
  {
   "cell_type": "code",
   "execution_count": 15,
   "metadata": {},
   "outputs": [],
   "source": [
    "hmax = 1.0\n",
    "hmin = 0.1\n",
    "cd_pnts = [\n",
    "    gmsh.model.occ.addPoint(d_cd[0]+det1[0],\n",
    "                            d_cd[0]+det1[1],\n",
    "                            0.0,\n",
    "                            meshSize=hmin),\n",
    "    gmsh.model.occ.addPoint(d_cd[1]+det1[0],\n",
    "                            d_cd[0]+det1[1],\n",
    "                            0.0,\n",
    "                            meshSize=hmin),\n",
    "    gmsh.model.occ.addPoint(d_cd[1]+det1[0],\n",
    "                            d_cd[1]+det1[1],\n",
    "                            0.0,\n",
    "                            meshSize=hmin),\n",
    "    gmsh.model.occ.addPoint(d_cd[0]+det1[0],\n",
    "                            d_cd[1]+det1[1],\n",
    "                            0.0,\n",
    "                            meshSize=hmin)\n",
    "]"
   ]
  },
  {
   "cell_type": "code",
   "execution_count": 16,
   "metadata": {},
   "outputs": [],
   "source": [
    "cd_edges = [\n",
    "    gmsh.model.occ.addLine(cd_pnts[0],cd_pnts[1]),\n",
    "    gmsh.model.occ.addLine(cd_pnts[1],cd_pnts[2]),\n",
    "    gmsh.model.occ.addLine(cd_pnts[2],cd_pnts[3]),\n",
    "    gmsh.model.occ.addLine(cd_pnts[3],cd_pnts[0])\n",
    "]\n",
    "\n",
    "gmsh.model.occ.synchronize()"
   ]
  },
  {
   "cell_type": "code",
   "execution_count": 17,
   "metadata": {},
   "outputs": [
    {
     "data": {
      "text/plain": [
       "[(2, 1),\n",
       " (2, 2),\n",
       " (2, 10),\n",
       " (2, 11),\n",
       " (2, 12),\n",
       " (2, 13),\n",
       " (2, 14),\n",
       " (2, 20),\n",
       " (2, 21),\n",
       " (2, 22),\n",
       " (2, 23),\n",
       " (2, 24)]"
      ]
     },
     "execution_count": 17,
     "metadata": {},
     "output_type": "execute_result"
    }
   ],
   "source": [
    "gmsh.model.getEntities(2)\n"
   ]
  },
  {
   "cell_type": "markdown",
   "metadata": {},
   "source": [
    "We are now creating a background mesh to resolve the poorly formed meshes cause by our thin Cadmium layer. To do this, we create a mesh field in gmsh which we will describe further restrictions to how we would like that region to be handled\n",
    "\n",
    "The **distance** field is specified to the curve list comprising our cadmium edges. We will sample 20 points equidistance along each edge.\n",
    "\n",
    "The **threshold** field is where we specifiy the mesh size and distance from the edge that we want this field to be applied. \n",
    "- the **DistMin** and **DistMax** if set too small relative to the previous mesh, you may not get any refinement (read the manual on mesh fields)"
   ]
  },
  {
   "cell_type": "code",
   "execution_count": 18,
   "metadata": {},
   "outputs": [],
   "source": [
    "# Cadmium Mesh Field\n",
    "gmsh.model.mesh.field.add(\"Distance\", 1)\n",
    "gmsh.model.mesh.field.setNumbers(1, \"CurvesList\", cd_edges)\n",
    "gmsh.model.mesh.field.setNumber(1, \"Sampling\", 20)\n",
    "gmsh.model.mesh.field.add(\"Threshold\", 2)\n",
    "gmsh.model.mesh.field.setNumber(2, \"InField\", 1)\n",
    "gmsh.model.mesh.field.setNumber(2, \"SizeMin\", hmin)\n",
    "gmsh.model.mesh.field.setNumber(2, \"SizeMax\", hmax)\n",
    "gmsh.model.mesh.field.setNumber(2, \"DistMin\", 0.5)\n",
    "gmsh.model.mesh.field.setNumber(2, \"DistMax\", 1.0)"
   ]
  },
  {
   "cell_type": "markdown",
   "metadata": {},
   "source": [
    "The 2 here is the field tag, not the dimension"
   ]
  },
  {
   "cell_type": "code",
   "execution_count": 19,
   "metadata": {},
   "outputs": [],
   "source": [
    "gmsh.model.mesh.field.setAsBackgroundMesh(2)"
   ]
  },
  {
   "cell_type": "markdown",
   "metadata": {},
   "source": [
    "Let's add a second mesh field about the center of Detector-2 in an attempt to refine the He3 portion of this detector."
   ]
  },
  {
   "cell_type": "code",
   "execution_count": 20,
   "metadata": {},
   "outputs": [],
   "source": [
    "he3_pnt = gmsh.model.occ.addPoint(det2[0],\n",
    "                                  det2[1],\n",
    "                                  0.0,\n",
    "                                  meshSize=hmin)\n",
    "gmsh.model.occ.synchronize()\n"
   ]
  },
  {
   "cell_type": "code",
   "execution_count": 21,
   "metadata": {},
   "outputs": [],
   "source": [
    "# He3 Mesh Field\n",
    "gmsh.model.mesh.field.add(\"Distance\", 3)\n",
    "gmsh.model.mesh.field.setNumbers(3, \"PointsList\", [he3_pnt])\n",
    "gmsh.model.mesh.field.setNumber(3, \"Sampling\", 20)\n",
    "gmsh.model.mesh.field.add(\"Threshold\", 4)\n",
    "gmsh.model.mesh.field.setNumber(4, \"InField\", 3)\n",
    "gmsh.model.mesh.field.setNumber(4, \"SizeMin\", hmin)\n",
    "gmsh.model.mesh.field.setNumber(4, \"SizeMax\", hmax)\n",
    "gmsh.model.mesh.field.setNumber(4, \"DistMin\", 1.0) #0.5\n",
    "gmsh.model.mesh.field.setNumber(4, \"DistMax\", 2.0) #1.0"
   ]
  },
  {
   "cell_type": "code",
   "execution_count": 22,
   "metadata": {},
   "outputs": [
    {
     "name": "stdout",
     "output_type": "stream",
     "text": [
      "Info    : Meshing 1D...\n",
      "Info    : [  0%] Meshing curve 5 (Line)\n",
      "Info    : [ 10%] Meshing curve 6 (Line)\n",
      "Info    : [ 10%] Meshing curve 7 (Line)\n",
      "Info    : [ 10%] Meshing curve 8 (Line)\n",
      "Info    : [ 20%] Meshing curve 9 (Line)\n",
      "Info    : [ 20%] Meshing curve 10 (Line)\n",
      "Info    : [ 20%] Meshing curve 11 (Line)\n",
      "Info    : [ 20%] Meshing curve 12 (Line)\n",
      "Info    : [ 30%] Meshing curve 13 (Line)\n",
      "Info    : [ 30%] Meshing curve 14 (Line)\n",
      "Info    : [ 30%] Meshing curve 15 (Line)\n",
      "Info    : [ 30%] Meshing curve 16 (Line)\n",
      "Info    : [ 40%] Meshing curve 17 (Line)\n",
      "Info    : [ 40%] Meshing curve 18 (Line)\n",
      "Info    : [ 40%] Meshing curve 19 (Line)\n",
      "Info    : [ 40%] Meshing curve 20 (Line)\n",
      "Info    : [ 50%] Meshing curve 21 (Ellipse)\n",
      "Info    : [ 50%] Meshing curve 22 (Ellipse)\n",
      "Info    : [ 50%] Meshing curve 23 (Line)\n",
      "Info    : [ 50%] Meshing curve 24 (Line)\n",
      "Info    : [ 60%] Meshing curve 25 (Line)\n",
      "Info    : [ 60%] Meshing curve 26 (Line)\n",
      "Info    : [ 60%] Meshing curve 27 (Line)\n",
      "Info    : [ 60%] Meshing curve 28 (Line)\n",
      "Info    : [ 70%] Meshing curve 29 (Line)\n",
      "Info    : [ 70%] Meshing curve 30 (Line)\n",
      "Info    : [ 70%] Meshing curve 31 (Line)\n",
      "Info    : [ 70%] Meshing curve 32 (Line)\n",
      "Info    : [ 80%] Meshing curve 33 (Line)\n",
      "Info    : [ 80%] Meshing curve 34 (Line)\n",
      "Info    : [ 80%] Meshing curve 35 (Ellipse)\n",
      "Info    : [ 80%] Meshing curve 36 (Ellipse)\n",
      "Info    : [ 90%] Meshing curve 37 (Line)\n",
      "Info    : [ 90%] Meshing curve 38 (Line)\n",
      "Info    : [ 90%] Meshing curve 39 (Line)\n",
      "Info    : [ 90%] Meshing curve 40 (Line)\n",
      "Info    : [100%] Meshing curve 41 (Line)\n",
      "Info    : [100%] Meshing curve 42 (Line)\n",
      "Info    : [100%] Meshing curve 43 (Line)\n",
      "Info    : [100%] Meshing curve 44 (Line)\n",
      "Info    : Done meshing 1D (Wall 0.013113s, CPU 0.014436s)\n",
      "Info    : Meshing 2D...\n",
      "Info    : [  0%] Meshing surface 1 (Plane, Frontal-Delaunay for Quads)\n",
      "Info    : [  0%] Blossom: 11336 internal 628 closed\n",
      "Info    : [  0%] Blossom recombination completed (Wall 0.125799s, CPU 0.126626s): 3818 quads, 80 triangles, 0 invalid quads, 1 quads with Q < 0.1, avg Q = 0.911208, min Q = 0.0235404\n",
      "Info    : [ 10%] Meshing surface 2 (Plane, Frontal-Delaunay for Quads)\n",
      "Info    : [ 10%] Blossom: 8 internal 6 closed\n",
      "Info    : [ 10%] Blossom recombination completed (Wall 0.00023148s, CPU 7.3e-05s): 4 quads, 0 triangles, 0 invalid quads, 0 quads with Q < 0.1, avg Q = 1, min Q = 1\n",
      "Info    : [ 20%] Meshing surface 10 (Plane, Frontal-Delaunay for Quads)\n",
      "Info    : [ 20%] Blossom: 1680 internal 672 closed\n",
      "Info    : [ 20%] Blossom recombination completed (Wall 0.00914481s, CPU 0.00926s): 672 quads, 0 triangles, 0 invalid quads, 0 quads with Q < 0.1, avg Q = 0.968263, min Q = 0.779309\n",
      "Info    : [ 30%] Meshing surface 11 (Plane, Frontal-Delaunay for Quads)\n",
      "Info    : [ 30%] Blossom: 648 internal 648 closed\n",
      "Info    : [ 30%] Blossom recombination completed (Wall 0.00301726s, CPU 0.003091s): 320 quads, 8 triangles, 0 invalid quads, 0 quads with Q < 0.1, avg Q = 0.4454, min Q = 0.209595\n",
      "Info    : [ 40%] Meshing surface 12 (Plane, Frontal-Delaunay for Quads)\n",
      "Info    : [ 40%] Blossom: 4420 internal 328 closed\n",
      "Info    : [ 40%] Blossom recombination completed (Wall 0.0798607s, CPU 0.080344s): 1501 quads, 0 triangles, 0 invalid quads, 0 quads with Q < 0.1, avg Q = 0.827084, min Q = 0.201822\n",
      "Info    : [ 50%] Meshing surface 13 (Plane, Frontal-Delaunay for Quads)\n",
      "Info    : [ 50%] Blossom: 16 internal 16 closed\n",
      "Info    : [ 50%] Blossom recombination completed (Wall 0.000465014s, CPU 0.000337s): 8 quads, 0 triangles, 0 invalid quads, 0 quads with Q < 0.1, avg Q = 0.75, min Q = 0.75\n",
      "Info    : [ 60%] Meshing surface 14 (Plane, Frontal-Delaunay for Quads)\n",
      "Info    : [ 60%] Blossom: 14 internal 8 closed\n",
      "Info    : [ 60%] Blossom recombination completed (Wall 0.000472618s, CPU 0.000512s): 6 quads, 0 triangles, 0 invalid quads, 0 quads with Q < 0.1, avg Q = 0.568992, min Q = 0.499403\n",
      "Info    : [ 60%] Meshing surface 20 (Plane, Frontal-Delaunay for Quads)\n",
      "Info    : [ 60%] Blossom: 80 internal 80 closed\n",
      "Info    : [ 60%] Blossom recombination completed (Wall 0.000592727s, CPU 0.000654s): 40 quads, 0 triangles, 0 invalid quads, 0 quads with Q < 0.1, avg Q = 0.6717, min Q = 0.5\n",
      "Info    : [ 70%] Meshing surface 21 (Plane, Frontal-Delaunay for Quads)\n",
      "Info    : [ 70%] Blossom: 72 internal 72 closed\n",
      "Info    : [ 70%] Blossom recombination completed (Wall 0.000568942s, CPU 0.000626s): 32 quads, 8 triangles, 0 invalid quads, 32 quads with Q < 0.1, avg Q = 0.0423788, min Q = 0.0203975\n",
      "Info    : [ 80%] Meshing surface 22 (Plane, Frontal-Delaunay for Quads)\n",
      "Info    : [ 80%] Blossom: 250 internal 54 closed\n",
      "Info    : [ 80%] Blossom recombination completed (Wall 0.0030378s, CPU 0.003104s): 90 quads, 6 triangles, 0 invalid quads, 1 quads with Q < 0.1, avg Q = 0.724326, min Q = 0.0700378\n",
      "Info    : [ 90%] Meshing surface 23 (Plane, Frontal-Delaunay for Quads)\n",
      "Info    : [ 90%] Blossom: 54 internal 54 closed\n",
      "Info    : [ 90%] Blossom recombination completed (Wall 0.000521511s, CPU 0.000576s): 20 quads, 14 triangles, 0 invalid quads, 8 quads with Q < 0.1, avg Q = 0.226689, min Q = 0.0210914\n",
      "Info    : [100%] Meshing surface 24 (Plane, Frontal-Delaunay for Quads)\n",
      "Info    : [100%] Blossom: 1087 internal 28 closed\n",
      "Info    : [100%] Blossom recombination completed (Wall 0.014891s, CPU 0.015358s): 357 quads, 0 triangles, 0 invalid quads, 0 quads with Q < 0.1, avg Q = 0.766841, min Q = 0.378148\n",
      "Info    : Done meshing 2D (Wall 0.513451s, CPU 0.517044s)\n",
      "Info    : 7372 nodes 8771 elements\n",
      "Info    : Writing 'Glovebox.msh'...\n",
      "Info    : Done writing 'Glovebox.msh'\n",
      "-------------------------------------------------------\n",
      "Version       : 4.13.1\n",
      "License       : GNU General Public License\n",
      "Build OS      : Linux64-sdk\n",
      "Build date    : 20240524\n",
      "Build host    : gmsh.info\n",
      "Build options : 64Bit ALGLIB[contrib] ANN[contrib] Bamg Blas[petsc] Blossom Cgns DIntegration Dlopen DomHex Eigen[contrib] Fltk Gmm[contrib] Hxt Jpeg Kbipack Lapack[petsc] LinuxJoystick MathEx[contrib] Med Mesh Metis[contrib] Mmg Mpeg Netgen Nii2mesh ONELAB ONELABMetamodel OpenCASCADE OpenCASCADE-CAF OpenGL OpenMP OptHom PETSc Parser Plugins Png Post QuadMeshingTools QuadTri Solver TetGen/BR TinyXML2[contrib] Untangle Voro++[contrib] WinslowUntangler Zlib\n",
      "FLTK version  : 1.4.0\n",
      "PETSc version : 3.14.4 (real arithmtic)\n",
      "OCC version   : 7.7.2\n",
      "MED version   : 4.1.0\n",
      "Packaged by   : geuzaine\n",
      "Web site      : https://gmsh.info\n",
      "Issue tracker : https://gitlab.onelab.info/gmsh/gmsh/issues\n",
      "-------------------------------------------------------\n"
     ]
    }
   ],
   "source": [
    "# Combined Mesh Field\n",
    "gmsh.model.mesh.field.add(\"Min\", 5)\n",
    "gmsh.model.mesh.field.setNumbers(5, \"FieldsList\", [2,4])\n",
    "gmsh.model.mesh.field.setAsBackgroundMesh(5)\n",
    "\n",
    "Mesh(alg=8)"
   ]
  }
 ],
 "metadata": {
  "kernelspec": {
   "display_name": "Python 3",
   "language": "python",
   "name": "python3"
  },
  "language_info": {
   "codemirror_mode": {
    "name": "ipython",
    "version": 3
   },
   "file_extension": ".py",
   "mimetype": "text/x-python",
   "name": "python",
   "nbconvert_exporter": "python",
   "pygments_lexer": "ipython3",
   "version": "3.12.3"
  }
 },
 "nbformat": 4,
 "nbformat_minor": 2
}
