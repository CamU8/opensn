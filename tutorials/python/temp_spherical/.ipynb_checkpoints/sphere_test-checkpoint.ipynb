{
 "cells": [
  {
   "cell_type": "markdown",
   "metadata": {},
   "source": [
    "# Problem 1\n",
    "\n",
    "This is a complete simulation transport example. Each aspect of the simulation process is kept to a minimum:\n",
    "- We use an orthogonal 2D grid;\n",
    "- We introduce the concept of domain decomposition (\"partitioning\");\n",
    "- The domain is homogeneous (single material, uniform isotropic external source), vacuum boundary conditions apply;\n",
    "- The cross sections are given in a text file (with our OpenSn format); we use only one energy group in this example;\n",
    "- The angular quadrature (discretization in angle) is introduced;\n",
    "- The Linear Boltzmann Solver (LBS) options are keep to a minimum."
   ]
  },
  {
   "cell_type": "code",
   "execution_count": 1,
   "metadata": {
    "vscode": {
     "languageId": "plaintext"
    }
   },
   "outputs": [],
   "source": [
    "import os\n",
    "import sys"
   ]
  },
  {
   "cell_type": "markdown",
   "metadata": {},
   "source": [
    "## Using this Notebook\n",
    "Before running this example, make sure that the **Python module of OpenSn** was installed.\n",
    "\n",
    "### Converting and Running this Notebook from the Terminal\n",
    "To run this notebook from the terminal, simply type:\n",
    "\n",
    "`jupyter nbconvert --to python --execute problem_one.ipynb`.\n",
    "\n",
    "To run this notebook in parallel (for example, using 4 processes), simply type:\n",
    "\n",
    "`mpiexec -n 4 jupyter nbconvert --to python --execute problem_1.ipynb`."
   ]
  },
  {
   "cell_type": "code",
   "execution_count": 2,
   "metadata": {
    "vscode": {
     "languageId": "plaintext"
    }
   },
   "outputs": [
    {
     "name": "stdout",
     "output_type": "stream",
     "text": [
      "Running the first LBS example with 1 MPI processors.\n"
     ]
    }
   ],
   "source": [
    "from mpi4py import MPI\n",
    "size = MPI.COMM_WORLD.size\n",
    "rank = MPI.COMM_WORLD.rank\n",
    "\n",
    "if rank == 0:\n",
    "    print(f\"Running the first LBS example with {size} MPI processors.\")"
   ]
  },
  {
   "cell_type": "markdown",
   "metadata": {},
   "source": [
    "## Import Requirements\n",
    "\n",
    "Import required classes and functions from the Python interface of OpenSn. Make sure that the path\n",
    "to PyOpenSn is appended to Python's PATH."
   ]
  },
  {
   "cell_type": "code",
   "execution_count": 3,
   "metadata": {
    "vscode": {
     "languageId": "plaintext"
    }
   },
   "outputs": [
    {
     "name": "stdout",
     "output_type": "stream",
     "text": [
      "OpenSn version 0.0.1\n",
      "2025-05-07 00:14:43 Running OpenSn with 1 processes.\n",
      "\n"
     ]
    }
   ],
   "source": [
    "# assuming that the execute dir is the notebook dir\n",
    "# this line is not necessary when PyOpenSn is installed using pip\n",
    "# sys.path.append(\"../../../..\")\n",
    "\n",
    "from pyopensn.mesh import OrthogonalMeshGenerator, KBAGraphPartitioner\n",
    "from pyopensn.xs import MultiGroupXS\n",
    "from pyopensn.source import VolumetricSource\n",
    "from pyopensn.aquad import GLCProductQuadrature3DXYZ\n",
    "from pyopensn.solver import DiscreteOrdinatesProblem, SteadyStateSolver, DiscreteOrdinatesCurvilinearProblem\n",
    "from pyopensn.diffusion import DFEMDiffusionSolver\n",
    "from pyopensn.fieldfunc import FieldFunctionInterpolationVolume, FieldFunctionGridBased\n",
    "from pyopensn.context import UseColor, Finalize\n",
    "from pyopensn.logvol import SphereLogicalVolume, BooleanLogicalVolume, RPPLogicalVolume\n",
    "from pyopensn.math import Vector3, ScalarSpatialMaterialFunction\n",
    "import numpy as np\n",
    "import math"
   ]
  },
  {
   "cell_type": "markdown",
   "metadata": {},
   "source": [
    "##### Disable colorized output."
   ]
  },
  {
   "cell_type": "code",
   "execution_count": 4,
   "metadata": {
    "vscode": {
     "languageId": "plaintext"
    }
   },
   "outputs": [],
   "source": [
    "UseColor(False)"
   ]
  },
  {
   "cell_type": "markdown",
   "metadata": {},
   "source": [
    "## Mesh\n",
    "Here, we will use the in-house orthogonal mesh generator for a Cartesian grid.\n",
    "\n",
    "### List of Nodes\n",
    "We first create a list of nodes for each dimension (X, Y, and Z). Here, all dimensions share the same node values.\n",
    "\n",
    "The nodes will be spread from 0 to +2.\n",
    "\n",
    "## List of Radii\n",
    "We also create a list of radii for the centerpoint of each cell."
   ]
  },
  {
   "cell_type": "code",
   "execution_count": 5,
   "metadata": {
    "vscode": {
     "languageId": "plaintext"
    }
   },
   "outputs": [],
   "source": [
    "nodes = []\n",
    "n_cells = 50\n",
    "length = 2.0\n",
    "rmin = 0\n",
    "dx = length / n_cells\n",
    "for i in range(n_cells + 1):\n",
    "    nodes.append(rmin + i * dx)"
   ]
  },
  {
   "cell_type": "markdown",
   "metadata": {},
   "source": [
    "### Orthogonal Mesh Generation\n",
    "We use the `OrthogonalMeshGenerator` and pass the list of nodes per dimension. Here, we pass 3 times the same list of\n",
    "nodes to create a 3D geometry with square cells. Thus, we create a square domain, of side length 2, with a vertex on the origin (0,0), in the positive-positive-positive quadrant.\n",
    "\n",
    "We also partition the 3D mesh into $2 \\times 2$ subdomains using `KBAGraphPartitioner`. Since we want the split the x-axis in 2,\n",
    "we give only 1 value in the xcuts array ($x=0$). Likewise for ycuts ($y=0$) and zcuts ($z=0$). The assignment to a partition is done based on where the\n",
    "cell center is located with respect to the various xcuts, ycuts, and zcuts (in the code, a fuzzy logic is applied to avoid arithmetic issues)."
   ]
  },
  {
   "cell_type": "code",
   "execution_count": 6,
   "metadata": {
    "vscode": {
     "languageId": "plaintext"
    }
   },
   "outputs": [
    {
     "name": "stdout",
     "output_type": "stream",
     "text": [
      "[0]  Done checking cell-center-to-face orientations\n",
      "[0]  00:00:06.6 Establishing cell connectivity.\n",
      "[0]  00:00:06.6 Vertex cell subscriptions complete.\n",
      "[0]  00:00:06.6 Surpassing cell 12500 of 125000 (10%)\n",
      "[0]  00:00:06.6 Surpassing cell 25000 of 125000 (20%)\n",
      "[0]  00:00:06.7 Surpassing cell 37501 of 125000 (30%)\n",
      "[0]  00:00:06.7 Surpassing cell 50000 of 125000 (40%)\n",
      "[0]  00:00:06.7 Surpassing cell 62500 of 125000 (50%)\n",
      "[0]  00:00:06.7 Surpassing cell 75001 of 125000 (60%)\n",
      "[0]  00:00:06.7 Surpassing cell 87501 of 125000 (70%)\n",
      "[0]  00:00:06.7 Surpassing cell 100000 of 125000 (80%)\n",
      "[0]  00:00:06.7 Surpassing cell 112500 of 125000 (90%)\n",
      "[0]  00:00:06.7 Surpassing cell 125000 of 125000 (100%)\n",
      "[0]  00:00:06.7 Establishing cell boundary connectivity.\n",
      "[0]  00:00:06.7 Done establishing cell connectivity.\n",
      "[0]  *** WARNING ***  KBAGraphPartitioner::Partition nx_*ny_*nz_ != number_of_parts\n",
      "[0]  Number of cells per partition (max,min,avg) = 125000,125000,125000\n",
      "[0]  \n",
      "[0]  Mesh statistics:\n",
      "[0]    Global cell count             : 125000\n",
      "[0]    Local cell count (avg,max,min): 125000,125000,125000\n",
      "[0]    Ghost-to-local ratio (avg)    : 0\n",
      "[0]  \n"
     ]
    }
   ],
   "source": [
    "meshgen = OrthogonalMeshGenerator(\n",
    "    node_sets=[nodes, nodes, nodes],\n",
    "    partitioner=KBAGraphPartitioner(\n",
    "        nx=2,\n",
    "        ny=2,\n",
    "        nz=2,\n",
    "        xcuts=[0.0],\n",
    "        ycuts=[0.0],\n",
    "        zcuts=[0.0]\n",
    "    ),\n",
    "    coord_sys=\"spherical\"\n",
    ")\n",
    "grid = meshgen.Execute()"
   ]
  },
  {
   "cell_type": "markdown",
   "metadata": {},
   "source": [
    "### Material IDs\n",
    "When using the in-house `OrthogonalMeshGenerator`, no material IDs are assigned. The user needs to\n",
    "assign material IDs to all cells. Here, we have a homogeneous domain, so we assign a material ID\n",
    "with value 0 for each cell in the spatial domain."
   ]
  },
  {
   "cell_type": "code",
   "execution_count": 7,
   "metadata": {
    "vscode": {
     "languageId": "plaintext"
    }
   },
   "outputs": [
    {
     "name": "stdout",
     "output_type": "stream",
     "text": [
      "[0]  00:00:16.0 Done setting block id 0 to all cells\n"
     ]
    }
   ],
   "source": [
    "grid.SetUniformBlockID(0)"
   ]
  },
  {
   "cell_type": "code",
   "execution_count": 8,
   "metadata": {},
   "outputs": [],
   "source": [
    "def mat_id_function(pt, cur_id):\n",
    "    if 0. < ((pt.x ** 2 + pt.y ** 2 + pt.z ** 2) ** (1/2)) < 0.5:\n",
    "        return 1\n",
    "    return cur_id"
   ]
  },
  {
   "cell_type": "code",
   "execution_count": 9,
   "metadata": {},
   "outputs": [],
   "source": [
    "grid.SetBlockIDFromFunction(mat_id_function)"
   ]
  },
  {
   "cell_type": "code",
   "execution_count": 10,
   "metadata": {},
   "outputs": [
    {
     "name": "stdout",
     "output_type": "stream",
     "text": [
      "[0]  Exporting mesh to VTK files with base problem_two_BlockIDs\n",
      "[0]  Done exporting mesh to VTK.\n"
     ]
    }
   ],
   "source": [
    "grid.ExportToPVTU(\"problem_two_BlockIDs\")"
   ]
  },
  {
   "cell_type": "markdown",
   "metadata": {},
   "source": [
    "## Cross Sections\n",
    "We create one-group cross sections using a built-in method. \n",
    "See the tutorials' section on cross sections for more details on how to load cross sections into OpenSn."
   ]
  },
  {
   "cell_type": "code",
   "execution_count": 11,
   "metadata": {
    "vscode": {
     "languageId": "plaintext"
    }
   },
   "outputs": [
    {
     "name": "stdout",
     "output_type": "stream",
     "text": [
      "[0]  *** WARNING ***  Negative transport cross section found for group 0 in call to ComputeDiffusionParameters. sigma_t=0 sigma_1=0. Setting sigma_1=0, sigma_tr=sigma_t for this group.\n",
      "[0]  *** WARNING ***  Negative transport cross section found for group 0 in call to ComputeDiffusionParameters. sigma_t=0 sigma_1=0. Setting sigma_1=0, sigma_tr=sigma_t for this group.\n"
     ]
    }
   ],
   "source": [
    "xs_mat = MultiGroupXS()\n",
    "xs_mat.CreateSimpleOneGroup(sigma_t=1.,c=0.0)\n",
    "xs_void = MultiGroupXS()\n",
    "xs_void.CreateSimpleOneGroup(sigma_t=0.,c=0.0)\n",
    "xs_src = MultiGroupXS()\n",
    "xs_src.CreateSimpleOneGroup(sigma_t=0.,c=0.0)"
   ]
  },
  {
   "cell_type": "markdown",
   "metadata": {},
   "source": [
    "## Volumetric Source\n",
    "We create a volumetric multigroup source which will be assigned to cells with given block IDs.\n",
    "Volumetric sources are assigned to the solver via the `options` parameter in the LBS block (see below)."
   ]
  },
  {
   "cell_type": "code",
   "execution_count": 12,
   "metadata": {},
   "outputs": [],
   "source": [
    "src_vol = SphereLogicalVolume(r=0.5)"
   ]
  },
  {
   "cell_type": "code",
   "execution_count": 13,
   "metadata": {
    "vscode": {
     "languageId": "plaintext"
    }
   },
   "outputs": [],
   "source": [
    "# mg_src = VolumetricSource(block_ids=[1], group_strength=[1.])\n",
    "mg_src = VolumetricSource(logical_volume=src_vol, group_strength=[1.])"
   ]
  },
  {
   "cell_type": "markdown",
   "metadata": {},
   "source": [
    "## Angular Quadrature\n",
    "We create a product Gauss-Legendre-Chebyshev angular quadrature and pass the total number of polar cosines\n",
    "(here `npolar = 4`) and the number of azimuthal subdivisions in **four quadrants** (`nazimu = 4`).\n",
    "This creates a 2D angular quadrature for XY geometry."
   ]
  },
  {
   "cell_type": "code",
   "execution_count": 14,
   "metadata": {
    "vscode": {
     "languageId": "plaintext"
    }
   },
   "outputs": [],
   "source": [
    "nazimu = 4\n",
    "npolar = 2\n",
    "pquad = GLCProductQuadrature3DXYZ(npolar, nazimu)"
   ]
  },
  {
   "cell_type": "markdown",
   "metadata": {},
   "source": [
    "## Linear Boltzmann Solver\n",
    "### Options for the Linear Boltzmann Problem (LBS)\n",
    "In the LBS block, we provide\n",
    "+ the number of energy groups,\n",
    "+ the groupsets (with 0-indexing), the handle for the angular quadrature, the angle aggregation, the solver type,\n",
    "tolerances, and other solver options."
   ]
  },
  {
   "cell_type": "code",
   "execution_count": 15,
   "metadata": {
    "vscode": {
     "languageId": "plaintext"
    }
   },
   "outputs": [],
   "source": [
    "phys = DiscreteOrdinatesProblem(\n",
    "    mesh=grid,\n",
    "    num_groups=1,\n",
    "    groupsets=[\n",
    "        {\n",
    "            \"groups_from_to\": (0, 0),\n",
    "            \"angular_quadrature\": pquad,\n",
    "            \"angle_aggregation_num_subsets\": 1,\n",
    "            \"inner_linear_method\": \"petsc_gmres\",\n",
    "            \"l_abs_tol\": 1.0e-6,\n",
    "            \"l_max_its\": 300,\n",
    "            \"gmres_restart_interval\": 30\n",
    "        }\n",
    "    ],\n",
    "    options={\n",
    "        \"volumetric_sources\": [mg_src],\n",
    "        \"boundary_conditions\": [\n",
    "            {\"name\":\"xmin\", \"type\":\"vacuum\"},\n",
    "            {\"name\":\"xmax\", \"type\":\"vacuum\"},\n",
    "            {\"name\":\"ymin\", \"type\":\"vacuum\"},\n",
    "            {\"name\":\"ymax\", \"type\":\"vacuum\"},\n",
    "            {\"name\":\"zmin\", \"type\":\"vacuum\"},\n",
    "            {\"name\":\"zmax\", \"type\":\"vacuum\"}\n",
    "        ]\n",
    "    },\n",
    "    xs_map=[\n",
    "        {\n",
    "            \"block_ids\": [0],\n",
    "            \"xs\": xs_mat\n",
    "        },\n",
    "        {\n",
    "            \"block_ids\": [1],\n",
    "            \"xs\": xs_src\n",
    "        }\n",
    "    ]\n",
    ")\n"
   ]
  },
  {
   "cell_type": "code",
   "execution_count": 17,
   "metadata": {},
   "outputs": [
    {
     "name": "stdout",
     "output_type": "stream",
     "text": [
      "[0]  \n",
      "[0]  Initializing LBS SteadyStateSolver with name: LBSDiscreteOrdinatesProblem\n",
      "[0]  \n",
      "[0]  Scattering order    : 1\n",
      "[0]  Number of Groups    : 1\n",
      "[0]  Number of Group sets: 1\n",
      "[0]  \n",
      "[0]  ***** Groupset 0 *****\n",
      "[0]  Groups:\n",
      "[0]      0 \n",
      "[0]  \n",
      "[0]  *** WARNING ***  InitializeMaterials: Cross-sections on block \"0\" has a lower scattering order (0) than the simulation (1).\n",
      "[0]  *** WARNING ***  InitializeMaterials: Cross-sections on block \"1\" has a lower scattering order (0) than the simulation (1).\n",
      "[0]  Initializing spatial discretization.\n",
      "[0]  Computing unit integrals.\n",
      "[0]  Ghost cell unit cell-matrix ratio: 0%\n",
      "[0]  Cell matrices computed.\n",
      "[0]  Initializing parallel arrays. G=1 M=4\n",
      "[0]  Done with parallel arrays.\n",
      "[0]  Volumetric source #0 has 1018 total subscribing cells.\n",
      "[0]  00:06:23.2 Initializing sweep datastructures.\n",
      "[0]  00:06:38.5 Done initializing sweep datastructures.\n",
      "[0]  00:06:38.5 Initialized angle aggregation.\n",
      "[0]  Initializing WGS and AGS solvers\n",
      "[0]  \n",
      "[0]  \n",
      "[0]  ********** Solving groupset 0 with PETSC_GMRES.\n",
      "[0]  \n",
      "[0]  Quadrature number of angles: 8\n",
      "[0]  Groups 0 0\n",
      "[0]  \n",
      "[0]  Total number of angular unknowns: 8000000\n",
      "[0]  Number of lagged angular unknowns: 0(0%)\n",
      "[0]  00:06:38.6 Computing b\n",
      "[0]  00:06:42.6 WGS groups [0-0] Iteration     0 Residual         1\n",
      "[0]  00:06:46.5 WGS groups [0-0] Iteration     1 Residual 2.63389e-12 CONVERGED\n",
      "[0]  \n",
      "[0]  \n",
      "[0]         Average sweep time (s):        3.89105\n",
      "[0]         Sweep Time/Unknown (ns):       486.381\n",
      "[0]         Number of unknowns per sweep:  8000000\n",
      "[0]  \n"
     ]
    }
   ],
   "source": [
    "ss_solver = SteadyStateSolver(lbs_problem=phys)\n",
    "ss_solver.Initialize()\n",
    "ss_solver.Execute()"
   ]
  },
  {
   "cell_type": "code",
   "execution_count": 18,
   "metadata": {},
   "outputs": [
    {
     "name": "stdout",
     "output_type": "stream",
     "text": [
      "[0]  Exporting field functions to VTK with file base \"problem_two\"\n",
      "[0]  Done exporting field functions to VTK.\n"
     ]
    }
   ],
   "source": [
    "fflist = phys.GetFieldFunctions()\n",
    "\n",
    "vtk_basename = \"problem_two\"\n",
    "FieldFunctionGridBased.ExportMultipleToVTK(\n",
    "    [fflist[0]],  # export only the flux of group 0 (first []), moment 0 (second [])\n",
    "    vtk_basename\n",
    ")"
   ]
  },
  {
   "cell_type": "code",
   "execution_count": 19,
   "metadata": {},
   "outputs": [],
   "source": [
    "def average_vol(vol0, r1, r2):\n",
    "    ffvol = FieldFunctionInterpolationVolume()\n",
    "    ffvol.SetOperationType(\"avg\")\n",
    "    ffvol.SetLogicalVolume(vol0)\n",
    "    ffvol.AddFieldFunction(fflist[0])\n",
    "    ffvol.Initialize()\n",
    "    ffvol.Execute()\n",
    "    avgval = ffvol.GetValue()\n",
    "    print(\"Radius: {:.2f} {:.2f} {:.6f}\".format(r1, r2, avgval))\n",
    "\n",
    "def create_vols(N_vols, rmax):\n",
    "    r_vals = np.linspace(0, rmax, N_vols + 1)\n",
    "    vols = np.empty(N_vols + 1)\n",
    "    for i in range(N_vols):\n",
    "        if i != 0:\n",
    "            inner_vol = SphereLogicalVolume(r=r_vals[i])\n",
    "            outer_vol = SphereLogicalVolume(r=r_vals[i + 1])\n",
    "            vol = BooleanLogicalVolume(parts=[{\"op\":True,\"lv\":outer_vol},{\"op\":False,\"lv\":inner_vol}])\n",
    "        else:\n",
    "            vol = SphereLogicalVolume(r=r_vals[i + 1])\n",
    "        average_vol(vol, r_vals[i], r_vals[i+1])"
   ]
  },
  {
   "cell_type": "code",
   "execution_count": 20,
   "metadata": {},
   "outputs": [
    {
     "name": "stdout",
     "output_type": "stream",
     "text": [
      "Radius: 0.00 0.10 0.097045\n",
      "Radius: 0.10 0.20 0.135029\n",
      "Radius: 0.20 0.30 0.177373\n",
      "Radius: 0.30 0.40 0.194490\n",
      "Radius: 0.40 0.50 0.159002\n",
      "Radius: 0.50 0.60 0.059585\n",
      "Radius: 0.60 0.70 0.022873\n",
      "Radius: 0.70 0.80 0.010181\n",
      "Radius: 0.80 0.90 0.005355\n",
      "Radius: 0.90 1.00 0.003584\n"
     ]
    }
   ],
   "source": [
    "create_vols(10, 1.)"
   ]
  },
  {
   "cell_type": "code",
   "execution_count": 21,
   "metadata": {},
   "outputs": [],
   "source": [
    "def get_phi(r, q, a):\n",
    "    phi = q*(a+(a**2-r**2)/(2*r)*math.log((a+r)/(abs(r-a)), 10))\n",
    "    return phi        "
   ]
  },
  {
   "cell_type": "code",
   "execution_count": 28,
   "metadata": {},
   "outputs": [
    {
     "name": "stdout",
     "output_type": "stream",
     "text": [
      "0.05 0.715696684904278\n",
      "0.15 0.7038743618218732\n",
      "0.25 0.6789204705198735\n",
      "0.35 0.6372132535699614\n",
      "0.44999999999999996 0.5674897733836216\n",
      "0.5499999999999999 0.4368940791149721\n",
      "0.65 0.3826195113277746\n",
      "0.75 0.35438124909666274\n",
      "0.85 0.3370526149068323\n",
      "0.95 0.3254887072526793\n"
     ]
    }
   ],
   "source": [
    "q = 1\n",
    "a = 0.5\n",
    "r_vals = np.linspace(0.05, 0.95, 10)\n",
    "for i in range(10):\n",
    "    print(r_vals[i], get_phi(r_vals[i], q, a))"
   ]
  },
  {
   "cell_type": "markdown",
   "metadata": {},
   "source": [
    "### Putting the Linear Boltzmann Solver Together\n",
    "We then create the physics solver, initialize it, and execute it."
   ]
  },
  {
   "cell_type": "markdown",
   "metadata": {},
   "source": [
    "## Post-Processing via Field Functions\n",
    "We extract the scalar flux (i.e., the first entry in the field function list; recall that lua\n",
    "indexing starts at 1) and export it to a VTK file whose name is supplied by the user. See the tutorials' section\n",
    "on post-processing for more details on field functions.\n",
    "\n",
    "The resulting scalar flux is shown below:\n",
    "\n",
    "![Scalar_flux](images/first_example_scalar_flux.png)"
   ]
  },
  {
   "cell_type": "code",
   "execution_count": null,
   "metadata": {
    "vscode": {
     "languageId": "plaintext"
    }
   },
   "outputs": [],
   "source": [
    "fflist = phys.GetScalarFieldFunctionList(only_scalar_flux=False)\n",
    "vtk_basename = \"first_example\"\n",
    "FieldFunctionGridBased.ExportMultipleToVTK(\n",
    "    [fflist[0][0]],  # export only the flux of group 0 (first []), moment 0 (second [])\n",
    "    vtk_basename\n",
    ")"
   ]
  },
  {
   "cell_type": "markdown",
   "metadata": {},
   "source": [
    "## Finalize (for Jupyter Notebook only)\n",
    "\n",
    "In Python script mode, PyOpenSn automatically handles environment termination. However, this\n",
    "automatic finalization does not occur when running in a Jupyter notebook, so explicit finalization\n",
    "of the environment at the end of the notebook is required. Do not call the finalization in Python\n",
    "script mode, or in console mode.\n",
    "\n",
    "Note that PyOpenSn's finalization must be called before MPI's finalization.\n"
   ]
  },
  {
   "cell_type": "code",
   "execution_count": 29,
   "metadata": {
    "vscode": {
     "languageId": "plaintext"
    }
   },
   "outputs": [
    {
     "name": "stdout",
     "output_type": "stream",
     "text": [
      "\n",
      "Elapsed execution time: 03:53:45.2\n",
      "2025-05-06 23:59:28 OpenSn finished execution.\n"
     ]
    }
   ],
   "source": [
    "from IPython import get_ipython\n",
    "\n",
    "def finalize_env():\n",
    "    Finalize()\n",
    "    MPI.Finalize()\n",
    "\n",
    "ipython_instance = get_ipython()\n",
    "if ipython_instance is not None:\n",
    "    ipython_instance.events.register(\"post_execute\", finalize_env)"
   ]
  },
  {
   "cell_type": "markdown",
   "metadata": {},
   "source": [
    "## Possible Extensions\n",
    "1. Change the number of MPI processes;\n",
    "2. Change the spatial resolution by increasing or decreasing the number of cells;\n",
    "3. Change the angular resolution by increasing or decreasing the number of polar and azimuthal subdivisions."
   ]
  }
 ],
 "metadata": {
  "kernelspec": {
   "display_name": "Python 3 (ipykernel)",
   "language": "python",
   "name": "python3"
  },
  "language_info": {
   "codemirror_mode": {
    "name": "ipython",
    "version": 3
   },
   "file_extension": ".py",
   "mimetype": "text/x-python",
   "name": "python",
   "nbconvert_exporter": "python",
   "pygments_lexer": "ipython3",
   "version": "3.10.12"
  }
 },
 "nbformat": 4,
 "nbformat_minor": 4
}
