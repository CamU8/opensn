{
 "cells": [
  {
   "cell_type": "markdown",
   "metadata": {},
   "source": [
    "# Problem 1\n",
    "\n",
    "This is a complete simulation transport example. Each aspect of the simulation process is kept to a minimum:\n",
    "- We use an orthogonal 2D grid;\n",
    "- We introduce the concept of domain decomposition (\"partitioning\");\n",
    "- The domain is homogeneous (single material, uniform isotropic external source), vacuum boundary conditions apply;\n",
    "- The cross sections are given in a text file (with our OpenSn format); we use only one energy group in this example;\n",
    "- The angular quadrature (discretization in angle) is introduced;\n",
    "- The Linear Boltzmann Solver (LBS) options are keep to a minimum."
   ]
  },
  {
   "cell_type": "code",
   "execution_count": 2,
   "metadata": {
    "vscode": {
     "languageId": "plaintext"
    }
   },
   "outputs": [],
   "source": [
    "import os\n",
    "import sys"
   ]
  },
  {
   "cell_type": "markdown",
   "metadata": {},
   "source": [
    "## Using this Notebook\n",
    "Before running this example, make sure that the **Python module of OpenSn** was installed.\n",
    "\n",
    "### Converting and Running this Notebook from the Terminal\n",
    "To run this notebook from the terminal, simply type:\n",
    "\n",
    "`jupyter nbconvert --to python --execute problem_one.ipynb`.\n",
    "\n",
    "To run this notebook in parallel (for example, using 4 processes), simply type:\n",
    "\n",
    "`mpiexec -n 4 jupyter nbconvert --to python --execute problem_1.ipynb`."
   ]
  },
  {
   "cell_type": "code",
   "execution_count": 3,
   "metadata": {
    "vscode": {
     "languageId": "plaintext"
    }
   },
   "outputs": [
    {
     "name": "stdout",
     "output_type": "stream",
     "text": [
      "Running the first LBS example with 1 MPI processors.\n"
     ]
    }
   ],
   "source": [
    "from mpi4py import MPI\n",
    "size = MPI.COMM_WORLD.size\n",
    "rank = MPI.COMM_WORLD.rank\n",
    "\n",
    "if rank == 0:\n",
    "    print(f\"Running the first LBS example with {size} MPI processors.\")"
   ]
  },
  {
   "cell_type": "markdown",
   "metadata": {},
   "source": [
    "## Import Requirements\n",
    "\n",
    "Import required classes and functions from the Python interface of OpenSn. Make sure that the path\n",
    "to PyOpenSn is appended to Python's PATH."
   ]
  },
  {
   "cell_type": "code",
   "execution_count": 4,
   "metadata": {
    "vscode": {
     "languageId": "plaintext"
    }
   },
   "outputs": [
    {
     "name": "stdout",
     "output_type": "stream",
     "text": [
      "OpenSn version 0.0.1\n",
      "2025-05-10 18:14:34 Running OpenSn with 1 processes.\n",
      "\n"
     ]
    }
   ],
   "source": [
    "# assuming that the execute dir is the notebook dir\n",
    "# this line is not necessary when PyOpenSn is installed using pip\n",
    "# sys.path.append(\"../../../..\")\n",
    "\n",
    "from pyopensn.mesh import FromFileMeshGenerator, PETScGraphPartitioner\n",
    "from pyopensn.xs import MultiGroupXS\n",
    "from pyopensn.source import VolumetricSource\n",
    "from pyopensn.aquad import GLCProductQuadrature3DXYZ\n",
    "from pyopensn.solver import DiscreteOrdinatesProblem, SteadyStateSolver, DiscreteOrdinatesCurvilinearProblem\n",
    "from pyopensn.diffusion import DFEMDiffusionSolver\n",
    "from pyopensn.fieldfunc import FieldFunctionInterpolationVolume, FieldFunctionGridBased\n",
    "from pyopensn.context import UseColor, Finalize\n",
    "from pyopensn.logvol import SphereLogicalVolume, BooleanLogicalVolume, RPPLogicalVolume\n",
    "from pyopensn.math import Vector3, ScalarSpatialMaterialFunction\n",
    "import numpy as np\n",
    "import math"
   ]
  },
  {
   "cell_type": "code",
   "execution_count": 5,
   "metadata": {},
   "outputs": [],
   "source": [
    "import matplotlib.pyplot as plt"
   ]
  },
  {
   "cell_type": "markdown",
   "metadata": {},
   "source": [
    "##### Disable colorized output."
   ]
  },
  {
   "cell_type": "code",
   "execution_count": 6,
   "metadata": {
    "vscode": {
     "languageId": "plaintext"
    }
   },
   "outputs": [],
   "source": [
    "UseColor(False)"
   ]
  },
  {
   "cell_type": "markdown",
   "metadata": {},
   "source": [
    "### Orthogonal Mesh Generation\n",
    "We use the `OrthogonalMeshGenerator` and pass the list of nodes per dimension. Here, we pass 3 times the same list of\n",
    "nodes to create a 3D geometry with square cells. Thus, we create a square domain, of side length 2, with a vertex on the origin (0,0), in the positive-positive-positive quadrant.\n",
    "\n",
    "We also partition the 3D mesh into $2 \\times 2$ subdomains using `KBAGraphPartitioner`. Since we want the split the x-axis in 2,\n",
    "we give only 1 value in the xcuts array ($x=0$). Likewise for ycuts ($y=0$) and zcuts ($z=0$). The assignment to a partition is done based on where the\n",
    "cell center is located with respect to the various xcuts, ycuts, and zcuts (in the code, a fuzzy logic is applied to avoid arithmetic issues)."
   ]
  },
  {
   "cell_type": "code",
   "execution_count": 7,
   "metadata": {
    "vscode": {
     "languageId": "plaintext"
    }
   },
   "outputs": [
    {
     "name": "stdout",
     "output_type": "stream",
     "text": [
      "[0]  FromFileMeshGenerator: Generating UnpartitionedMesh\n",
      "[0]  Making unpartitioned mesh from Gmsh file ./vtk_meshes/three_spheres.msh (format v2.2)\n",
      "[0]  Mesh identified as 3D.\n",
      "[0]  Done checking cell-center-to-face orientations\n",
      "[0]  00:00:02.6 Establishing cell connectivity.\n",
      "[0]  00:00:02.7 Vertex cell subscriptions complete.\n",
      "[0]  00:00:02.7 Surpassing cell 2147 of 21466 (10%)\n",
      "[0]  00:00:02.8 Surpassing cell 4294 of 21466 (20%)\n",
      "[0]  00:00:02.9 Surpassing cell 6440 of 21466 (30%)\n",
      "[0]  00:00:02.9 Surpassing cell 8587 of 21466 (40%)\n",
      "[0]  00:00:02.9 Surpassing cell 10733 of 21466 (50%)\n",
      "[0]  00:00:03.0 Surpassing cell 12880 of 21466 (60%)\n",
      "[0]  00:00:03.0 Surpassing cell 15027 of 21466 (70%)\n",
      "[0]  00:00:03.1 Surpassing cell 17173 of 21466 (80%)\n",
      "[0]  00:00:03.1 Surpassing cell 19320 of 21466 (90%)\n",
      "[0]  00:00:03.1 Surpassing cell 21466 of 21466 (100%)\n",
      "[0]  00:00:03.1 Establishing cell boundary connectivity.\n",
      "[0]  00:00:03.1 Done establishing cell connectivity.\n",
      "[0]  Done processing ./vtk_meshes/three_spheres.msh.\n",
      "[0]  Number of nodes read: 4260\n",
      "[0]  Number of cells read: 21466\n",
      "[0]  Number of cells per partition (max,min,avg) = 21466,21466,21466\n",
      "[0]  \n",
      "[0]  Mesh statistics:\n",
      "[0]    Global cell count             : 21466\n",
      "[0]    Local cell count (avg,max,min): 21466,21466,21466\n",
      "[0]    Ghost-to-local ratio (avg)    : 0\n",
      "[0]  \n",
      "[0]  Exporting mesh to VTK files with base Read_3D_gmsh\n",
      "[0]  Done exporting mesh to VTK.\n"
     ]
    }
   ],
   "source": [
    "meshgen = FromFileMeshGenerator(\n",
    "    filename=\"./vtk_meshes/three_spheres.msh\",\n",
    "    partitioner=PETScGraphPartitioner(type='parmetis'),\n",
    ")\n",
    "grid = meshgen.Execute()\n",
    "\n",
    "# Export\n",
    "grid.ExportToPVTU(\"Read_3D_gmsh\")"
   ]
  },
  {
   "cell_type": "markdown",
   "metadata": {},
   "source": [
    "### Material IDs\n",
    "When using the in-house `OrthogonalMeshGenerator`, no material IDs are assigned. The user needs to\n",
    "assign material IDs to all cells. Here, we have a homogeneous domain, so we assign a material ID\n",
    "with value 0 for each cell in the spatial domain."
   ]
  },
  {
   "cell_type": "markdown",
   "metadata": {},
   "source": [
    "## Cross Sections\n",
    "We create one-group cross sections using a built-in method. \n",
    "See the tutorials' section on cross sections for more details on how to load cross sections into OpenSn."
   ]
  },
  {
   "cell_type": "code",
   "execution_count": 8,
   "metadata": {
    "vscode": {
     "languageId": "plaintext"
    }
   },
   "outputs": [
    {
     "name": "stdout",
     "output_type": "stream",
     "text": [
      "[0]  *** WARNING ***  Negative transport cross section found for group 0 in call to ComputeDiffusionParameters. sigma_t=0 sigma_1=0. Setting sigma_1=0, sigma_tr=sigma_t for this group.\n",
      "[0]  *** WARNING ***  Negative transport cross section found for group 0 in call to ComputeDiffusionParameters. sigma_t=0 sigma_1=0. Setting sigma_1=0, sigma_tr=sigma_t for this group.\n"
     ]
    }
   ],
   "source": [
    "xs_mat = MultiGroupXS()\n",
    "xs_mat.CreateSimpleOneGroup(sigma_t=1.,c=0.0)\n",
    "xs_void = MultiGroupXS()\n",
    "xs_void.CreateSimpleOneGroup(sigma_t=0.,c=0.0)\n",
    "xs_src = MultiGroupXS()\n",
    "xs_src.CreateSimpleOneGroup(sigma_t=0.,c=0.0)"
   ]
  },
  {
   "cell_type": "markdown",
   "metadata": {},
   "source": [
    "## Volumetric Source\n",
    "We create a volumetric multigroup source which will be assigned to cells with given block IDs.\n",
    "Volumetric sources are assigned to the solver via the `options` parameter in the LBS block (see below)."
   ]
  },
  {
   "cell_type": "code",
   "execution_count": 9,
   "metadata": {},
   "outputs": [],
   "source": [
    "bsrc=[1.]"
   ]
  },
  {
   "cell_type": "markdown",
   "metadata": {},
   "source": [
    "## Angular Quadrature\n",
    "We create a product Gauss-Legendre-Chebyshev angular quadrature and pass the total number of polar cosines\n",
    "(here `npolar = 4`) and the number of azimuthal subdivisions in **four quadrants** (`nazimu = 4`).\n",
    "This creates a 2D angular quadrature for XY geometry."
   ]
  },
  {
   "cell_type": "code",
   "execution_count": 10,
   "metadata": {
    "vscode": {
     "languageId": "plaintext"
    }
   },
   "outputs": [],
   "source": [
    "nazimu = 4\n",
    "npolar = 2\n",
    "pquad = GLCProductQuadrature3DXYZ(npolar, nazimu)"
   ]
  },
  {
   "cell_type": "markdown",
   "metadata": {},
   "source": [
    "## Linear Boltzmann Solver\n",
    "### Options for the Linear Boltzmann Problem (LBS)\n",
    "In the LBS block, we provide\n",
    "+ the number of energy groups,\n",
    "+ the groupsets (with 0-indexing), the handle for the angular quadrature, the angle aggregation, the solver type,\n",
    "tolerances, and other solver options."
   ]
  },
  {
   "cell_type": "code",
   "execution_count": 11,
   "metadata": {
    "vscode": {
     "languageId": "plaintext"
    }
   },
   "outputs": [],
   "source": [
    "phys = DiscreteOrdinatesProblem(\n",
    "    mesh=grid,\n",
    "    num_groups=1,\n",
    "    groupsets=[\n",
    "        {\n",
    "            \"groups_from_to\": (0, 0),\n",
    "            \"angular_quadrature\": pquad,\n",
    "            \"angle_aggregation_type\": \"single\",\n",
    "            \"angle_aggregation_num_subsets\": 1,\n",
    "            \"inner_linear_method\": \"petsc_gmres\",\n",
    "            \"l_abs_tol\": 1.0e-6,\n",
    "            \"l_max_its\": 300,\n",
    "            \"gmres_restart_interval\": 30\n",
    "        }\n",
    "    ],\n",
    "    options={\n",
    "        \"scattering_order\": 0,\n",
    "        \"boundary_conditions\": [\n",
    "            {\"name\":\"xmin\", \"type\":\"isotropic\", \"group_strength\":bsrc},\n",
    "            {\"name\":\"xmax\", \"type\":\"isotropic\", \"group_strength\":bsrc},\n",
    "            {\"name\":\"ymin\", \"type\":\"isotropic\", \"group_strength\":bsrc},\n",
    "            {\"name\":\"ymax\", \"type\":\"isotropic\", \"group_strength\":bsrc},\n",
    "            {\"name\":\"zmin\", \"type\":\"isotropic\", \"group_strength\":bsrc},\n",
    "            {\"name\":\"zmax\", \"type\":\"isotropic\", \"group_strength\":bsrc}\n",
    "        ]\n",
    "    },\n",
    "    xs_map=[\n",
    "        {\n",
    "            \"block_ids\": [1,3],\n",
    "            \"xs\": xs_void\n",
    "        },\n",
    "        {\n",
    "            \"block_ids\": [2],\n",
    "            \"xs\": xs_mat\n",
    "        }\n",
    "    ]\n",
    ")"
   ]
  },
  {
   "cell_type": "code",
   "execution_count": 12,
   "metadata": {},
   "outputs": [
    {
     "name": "stdout",
     "output_type": "stream",
     "text": [
      "[0]  \n",
      "[0]  Initializing LBS SteadyStateSolver with name: LBSDiscreteOrdinatesProblem\n",
      "[0]  \n",
      "[0]  Scattering order    : 0\n",
      "[0]  Number of Groups    : 1\n",
      "[0]  Number of Group sets: 1\n",
      "[0]  \n",
      "[0]  ***** Groupset 0 *****\n",
      "[0]  Groups:\n",
      "[0]      0 \n",
      "[0]  \n",
      "[0]  Initializing spatial discretization.\n",
      "[0]  Computing unit integrals.\n",
      "[0]  Ghost cell unit cell-matrix ratio: 0%\n",
      "[0]  Cell matrices computed.\n",
      "[0]  Initializing parallel arrays. G=1 M=1\n",
      "[0]  Done with parallel arrays.\n",
      "[0]  00:00:13.7 Initializing sweep datastructures.\n",
      "[0]  00:00:15.3 Done initializing sweep datastructures.\n",
      "[0]  00:00:15.3 Initialized angle aggregation.\n",
      "[0]  Initializing WGS and AGS solvers\n",
      "[0]  \n",
      "[0]  \n",
      "[0]  ********** Solving groupset 0 with PETSC_GMRES.\n",
      "[0]  \n",
      "[0]  Quadrature number of angles: 8\n",
      "[0]  Groups 0 0\n",
      "[0]  \n",
      "[0]  Total number of angular unknowns: 686912\n",
      "[0]  Number of lagged angular unknowns: 0(0%)\n",
      "[0]  00:00:15.3 Computing b\n",
      "[0]  00:00:15.7 WGS groups [0-0] Iteration     0 Residual         1\n",
      "[0]  00:00:16.1 WGS groups [0-0] Iteration     1 Residual 4.88467e-15 CONVERGED\n",
      "[0]  \n",
      "[0]  \n",
      "[0]         Average sweep time (s):        0.38958\n",
      "[0]         Sweep Time/Unknown (ns):       567.147\n",
      "[0]         Number of unknowns per sweep:  686912\n",
      "[0]  \n"
     ]
    }
   ],
   "source": [
    "ss_solver = SteadyStateSolver(lbs_problem=phys)\n",
    "ss_solver.Initialize()\n",
    "ss_solver.Execute()"
   ]
  },
  {
   "cell_type": "code",
   "execution_count": 13,
   "metadata": {},
   "outputs": [
    {
     "name": "stdout",
     "output_type": "stream",
     "text": [
      "[0]  Exporting field functions to VTK with file base \"problem_two\"\n",
      "[0]  Done exporting field functions to VTK.\n"
     ]
    }
   ],
   "source": [
    "fflist = phys.GetFieldFunctions()\n",
    "\n",
    "vtk_basename = \"problem_two\"\n",
    "FieldFunctionGridBased.ExportMultipleToVTK(\n",
    "    [fflist[0]],  # export only the flux of group 0 (first []), moment 0 (second [])\n",
    "    vtk_basename\n",
    ")"
   ]
  },
  {
   "cell_type": "code",
   "execution_count": 14,
   "metadata": {},
   "outputs": [],
   "source": [
    "def average_vol(vol0, r1, r2):\n",
    "    ffvol = FieldFunctionInterpolationVolume()\n",
    "    ffvol.SetOperationType(\"avg\")\n",
    "    ffvol.SetLogicalVolume(vol0)\n",
    "    ffvol.AddFieldFunction(fflist[0])\n",
    "    ffvol.Initialize()\n",
    "    ffvol.Execute()\n",
    "    avgval = ffvol.GetValue()\n",
    "    print(\"Radius: {:.2f} {:.2f} {:.6f}\".format(r1, r2, avgval))\n",
    "    return avgval\n",
    "\n",
    "def create_vols(N_vols, rmax):\n",
    "    r_vals = np.linspace(0, rmax, N_vols + 1)\n",
    "    vols = np.empty(N_vols)\n",
    "    avgphi = np.zeros(N_vols)\n",
    "    for i in range(N_vols):\n",
    "        if i != 0:\n",
    "            inner_vol = SphereLogicalVolume(r=r_vals[i])\n",
    "            outer_vol = SphereLogicalVolume(r=r_vals[i + 1])\n",
    "            vol = BooleanLogicalVolume(parts=[{\"op\":True,\"lv\":outer_vol},{\"op\":False,\"lv\":inner_vol}])\n",
    "        else:\n",
    "            vol = SphereLogicalVolume(r=r_vals[i + 1])\n",
    "        avgphi[i] = average_vol(vol, r_vals[i], r_vals[i+1])\n",
    "    return avgphi"
   ]
  },
  {
   "cell_type": "code",
   "execution_count": 15,
   "metadata": {},
   "outputs": [
    {
     "name": "stdout",
     "output_type": "stream",
     "text": [
      "Radius: 0.00 0.10 8.956575\n",
      "Radius: 0.10 0.20 8.858513\n",
      "Radius: 0.20 0.30 8.531553\n",
      "Radius: 0.30 0.40 7.954703\n",
      "Radius: 0.40 0.50 7.918199\n",
      "Radius: 0.50 0.60 8.453450\n",
      "Radius: 0.60 0.70 9.596069\n",
      "Radius: 0.70 0.80 10.793564\n",
      "Radius: 0.80 0.90 11.322757\n",
      "Radius: 0.90 1.00 11.620745\n"
     ]
    }
   ],
   "source": [
    "n_vols = 10\n",
    "sim_vals = create_vols(n_vols, 1)"
   ]
  },
  {
   "cell_type": "code",
   "execution_count": 16,
   "metadata": {},
   "outputs": [],
   "source": [
    "def get_phi(r, q, a, b):\n",
    "    a2 = a**2\n",
    "    b2 = b**2\n",
    "    r2 = r**2\n",
    "    phi = q*(b+(b2-r2)/(2*r)*math.log((b+r)/(abs(r-b))))-q*(a+(a2-r2)/(2*r)*math.log((a+r)/(abs(r-a))))\n",
    "    return phi        "
   ]
  },
  {
   "cell_type": "code",
   "execution_count": 17,
   "metadata": {},
   "outputs": [
    {
     "name": "stdout",
     "output_type": "stream",
     "text": [
      "0.05 0.33459328354052764\n",
      "0.15 0.34546744975652766\n",
      "0.25 0.3732207206711644\n",
      "0.35 0.4651100171543332\n",
      "0.44999999999999996 0.4837516208432012\n",
      "0.5499999999999999 0.4401951653290374\n",
      "0.65 0.33925104266213946\n",
      "0.75 0.19894355805052705\n",
      "0.85 0.1428819750280989\n",
      "0.95 0.109376236442571\n"
     ]
    }
   ],
   "source": [
    "q = 0.5\n",
    "a = 1/3\n",
    "b = 2/3\n",
    "r_vals = np.linspace(0.05, 0.95, n_vols)\n",
    "phi = np.zeros(n_vols)\n",
    "for i in range(n_vols):\n",
    "    phi[i] = get_phi(r_vals[i], q, a, b)\n",
    "    print(r_vals[i], phi[i])"
   ]
  },
  {
   "cell_type": "code",
   "execution_count": 18,
   "metadata": {},
   "outputs": [
    {
     "name": "stdout",
     "output_type": "stream",
     "text": [
      "[ 2576.85431958  2464.21052348  2185.92697504  1610.28407034\n",
      "  1536.83142741  1820.38676656  2728.60417317  5325.44010083\n",
      "  7824.55238148 10524.56076433]\n"
     ]
    }
   ],
   "source": [
    "err = np.zeros(n_vols)\n",
    "err[:] = 100*abs(phi[:]-sim_vals[:])/phi[:]\n",
    "print(err)"
   ]
  },
  {
   "cell_type": "code",
   "execution_count": 19,
   "metadata": {},
   "outputs": [
    {
     "data": {
      "image/png": "[encoded data removed]",
      "text/plain": [
       "<Figure size 640x480 with 1 Axes>"
      ]
     },
     "metadata": {},
     "output_type": "display_data"
    }
   ],
   "source": [
    "plt.figure(1)\n",
    "plt.plot(r_vals,phi)\n",
    "plt.plot(r_vals,sim_vals)\n",
    "plt.title(\"GMSH Simulation\")\n",
    "plt.xlabel(\"x (cm)\")\n",
    "plt.ylabel(\"Flux\") \n",
    "plt.legend([\"Real Values\", \"Simulated Values\"])\n",
    "plt.show()"
   ]
  },
  {
   "cell_type": "code",
   "execution_count": 21,
   "metadata": {},
   "outputs": [
    {
     "data": {
      "image/png": "[encoded data removed]",
      "text/plain": [
       "<Figure size 640x480 with 1 Axes>"
      ]
     },
     "metadata": {},
     "output_type": "display_data"
    }
   ],
   "source": [
    "plt.figure(2)\n",
    "plt.plot(r_vals,err)\n",
    "plt.title(\"GMSH Percent Error\")\n",
    "plt.ylabel(\"Error (%)\")\n",
    "plt.xlabel(\"x (cm)\")\n",
    "plt.show()"
   ]
  },
  {
   "cell_type": "markdown",
   "metadata": {},
   "source": [
    "## Finalize (for Jupyter Notebook only)\n",
    "\n",
    "In Python script mode, PyOpenSn automatically handles environment termination. However, this\n",
    "automatic finalization does not occur when running in a Jupyter notebook, so explicit finalization\n",
    "of the environment at the end of the notebook is required. Do not call the finalization in Python\n",
    "script mode, or in console mode.\n",
    "\n",
    "Note that PyOpenSn's finalization must be called before MPI's finalization.\n"
   ]
  },
  {
   "cell_type": "code",
   "execution_count": 22,
   "metadata": {
    "vscode": {
     "languageId": "plaintext"
    }
   },
   "outputs": [
    {
     "name": "stdout",
     "output_type": "stream",
     "text": [
      "\n",
      "Elapsed execution time: 00:07:43.3\n",
      "2025-05-10 18:10:59 OpenSn finished execution.\n"
     ]
    }
   ],
   "source": [
    "from IPython import get_ipython\n",
    "\n",
    "def finalize_env():\n",
    "    Finalize()\n",
    "    MPI.Finalize()\n",
    "\n",
    "ipython_instance = get_ipython()\n",
    "if ipython_instance is not None:\n",
    "    ipython_instance.events.register(\"post_execute\", finalize_env)"
   ]
  },
  {
   "cell_type": "markdown",
   "metadata": {},
   "source": [
    "## Possible Extensions\n",
    "1. Change the number of MPI processes;\n",
    "2. Change the spatial resolution by increasing or decreasing the number of cells;\n",
    "3. Change the angular resolution by increasing or decreasing the number of polar and azimuthal subdivisions."
   ]
  }
 ],
 "metadata": {
  "kernelspec": {
   "display_name": "Python 3 (ipykernel)",
   "language": "python",
   "name": "python3"
  },
  "language_info": {
   "codemirror_mode": {
    "name": "ipython",
    "version": 3
   },
   "file_extension": ".py",
   "mimetype": "text/x-python",
   "name": "python",
   "nbconvert_exporter": "python",
   "pygments_lexer": "ipython3",
   "version": "3.10.12"
  }
 },
 "nbformat": 4,
 "nbformat_minor": 4
}
