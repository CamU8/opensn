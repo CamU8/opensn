{
 "cells": [
  {
   "cell_type": "code",
   "execution_count": 1,
   "id": "9020e4e7-7578-4c7c-8f85-400ede774ba4",
   "metadata": {},
   "outputs": [],
   "source": [
    "import gmsh"
   ]
  },
  {
   "cell_type": "code",
   "execution_count": 124,
   "id": "8d37bc82-dc03-4c64-bcef-0440d2bd88b4",
   "metadata": {},
   "outputs": [],
   "source": [
    "gmsh.initialize()\n",
    "gmsh.model.add(\"mesh_with_occt\")"
   ]
  },
  {
   "cell_type": "code",
   "execution_count": 125,
   "id": "aca79bbd-c25e-465f-ba74-d5ee1118447e",
   "metadata": {},
   "outputs": [],
   "source": [
    "inner_radius = 0.5\n",
    "outer_radius = 1.\n",
    "\n",
    "outer_sphere = gmsh.model.occ.addSphere(0, 0, 0, outer_radius)\n",
    "inner_sphere = gmsh.model.occ.addSphere(0, 0, 0, inner_radius)"
   ]
  },
  {
   "cell_type": "code",
   "execution_count": 126,
   "id": "3649ad95-a4d1-4a23-9aa7-16cc59207a84",
   "metadata": {},
   "outputs": [
    {
     "name": "stdout",
     "output_type": "stream",
     "text": [
      "Cut Result ([(3, 1)], [[(3, 1)], []])                                                                                     \n"
     ]
    }
   ],
   "source": [
    "cut_result = gmsh.model.occ.cut([(3,outer_sphere)],[(3,inner_sphere)], removeTool=False)\n",
    "print(\"Cut Result\", cut_result)"
   ]
  },
  {
   "cell_type": "code",
   "execution_count": 127,
   "id": "a969dad1-797a-461d-a316-e0a4dbb8f398",
   "metadata": {},
   "outputs": [],
   "source": [
    "gmsh.model.occ.synchronize()"
   ]
  },
  {
   "cell_type": "code",
   "execution_count": 128,
   "id": "9e160225-f9e6-4012-a9ee-fd2a1b6cdd29",
   "metadata": {},
   "outputs": [
    {
     "name": "stdout",
     "output_type": "stream",
     "text": [
      "Volumes: [(3, 1), (3, 2)]\n"
     ]
    }
   ],
   "source": [
    "volEntities = gmsh.model.getEntities(3)\n",
    "print(\"Volumes:\", volEntities)\n",
    "shell_volume = None\n",
    "for (dim, tag) in volEntities:\n",
    "    if tag != inner_sphere:\n",
    "        shell_volume = tag\n",
    "        break\n",
    "if shell_volume is None:\n",
    "    raise RuntimeError(\"Could not identify the shell volume.\")"
   ]
  },
  {
   "cell_type": "code",
   "execution_count": 129,
   "id": "f73dc6b2-6890-406e-93cc-fa1ff18c6aba",
   "metadata": {},
   "outputs": [
    {
     "name": "stdout",
     "output_type": "stream",
     "text": [
      "2\n",
      "1\n"
     ]
    }
   ],
   "source": [
    "print(inner_sphere)\n",
    "print(shell_volume)"
   ]
  },
  {
   "cell_type": "code",
   "execution_count": 130,
   "id": "3b2517ed-4b00-4ba6-bf8d-355c688e2f38",
   "metadata": {},
   "outputs": [],
   "source": [
    "# Define physical groups for the inner sphere and shell\n",
    "gmsh.model.addPhysicalGroup(3, [inner_sphere], tag=1)\n",
    "gmsh.model.setPhysicalName(3, 1, \"Inner\")\n",
    "gmsh.model.addPhysicalGroup(3, [shell_volume], tag=2)\n",
    "gmsh.model.setPhysicalName(3, 2, \"Shell\")\n",
    "# Create a MathEval field to control the mesh size based on z.\n",
    "fieldTag = gmsh.model.mesh.field.add(\"MathEval\")"
   ]
  },
  {
   "cell_type": "code",
   "execution_count": 131,
   "id": "dec22544-8477-4ac8-af38-c4c32f74c898",
   "metadata": {},
   "outputs": [],
   "source": [
    "def Mesh(h=0.1, alg=6):\n",
    "    gmsh.option.setNumber(\"Mesh.MeshSizeExtendFromBoundary\", 0)\n",
    "    gmsh.option.setNumber(\"Mesh.MeshSizeFromPoints\", 0)\n",
    "    gmsh.option.setNumber(\"Mesh.MeshSizeFromCurvature\", 0)\n",
    "    gmsh.option.setNumber(\"Mesh.MeshSizeMax\", h)\n",
    "\n",
    "    # Export Mesh to specified version for OpenSn\n",
    "    gmsh.option.setNumber(\"Mesh.MshFileVersion\",2.2)\n",
    "    gmsh.option.setNumber(\"Mesh.Algorithm\", alg)\n",
    "\n",
    "    gmsh.model.mesh.generate(3)\n",
    "    gmsh.write(\"problem_one.msh\")"
   ]
  },
  {
   "cell_type": "code",
   "execution_count": 132,
   "id": "57866bde-90f7-4799-ab57-f0c036c516f8",
   "metadata": {},
   "outputs": [
    {
     "name": "stdout",
     "output_type": "stream",
     "text": [
      "Info    : Meshing 1D...\n",
      "Info    : [ 20%] Meshing curve 5 (Circle)\n",
      "Info    : [ 70%] Meshing curve 8 (Circle)\n",
      "Info    : Done meshing 1D (Wall 0.00248709s, CPU 0.002204s)\n",
      "Info    : Meshing 2D...\n",
      "Info    : [  0%] Meshing surface 2 (Sphere, Frontal-Delaunay)\n",
      "Info    : [ 60%] Meshing surface 3 (Sphere, Frontal-Delaunay)\n",
      "Info    : Done meshing 2D (Wall 0.163798s, CPU 0.152045s)\n",
      "Info    : Meshing 3D...\n",
      "Info    : 3D Meshing 2 volumes with 1 connected component\n",
      "Info    : Tetrahedrizing 1922 nodes...\n",
      "Info    : Done tetrahedrizing 1930 nodes (Wall 0.025921s, CPU 0.024024s)\n",
      "Info    : Reconstructing mesh...\n",
      "Info    :  - Creating surface mesh\n",
      "Info    :  - Identifying boundary edges\n",
      "Info    :  - Recovering boundary\n",
      "Info    : Done reconstructing mesh (Wall 0.0893241s, CPU 0.087159s)\n",
      "Info    : Found volume 2\n",
      "Info    : Found volume 1\n",
      "Info    : It. 0 - 0 nodes created - worst tet radius 5.42518 (nodes removed 0 0)\n",
      "Info    : It. 500 - 496 nodes created - worst tet radius 1.51899 (nodes removed 0 4)\n",
      "Info    : It. 1000 - 996 nodes created - worst tet radius 1.2261 (nodes removed 0 4)\n",
      "Info    : It. 1500 - 1496 nodes created - worst tet radius 1.11306 (nodes removed 0 4)\n",
      "Info    : It. 2000 - 1996 nodes created - worst tet radius 1.01374 (nodes removed 0 4)\n",
      "Info    : 3D refinement terminated (4021 nodes total):\n",
      "Info    :  - 6 Delaunay cavities modified for star shapeness\n",
      "Info    :  - 4 nodes could not be inserted\n",
      "Info    :  - 20541 tetrahedra created in 0.122896 sec. (167140 tets/s)\n",
      "Info    : 0 node relocations\n",
      "Info    : Done meshing 3D (Wall 0.335524s, CPU 0.316884s)\n",
      "Info    : Optimizing mesh...\n",
      "Info    : Optimizing volume 1\n",
      "Info    : Optimization starts (volume = 3.65746) with worst = 0.00468872 / average = 0.764972:\n",
      "Info    : 0.00 < quality < 0.10 :        53 elements\n",
      "Info    : 0.10 < quality < 0.20 :       129 elements\n",
      "Info    : 0.20 < quality < 0.30 :       222 elements\n",
      "Info    : 0.30 < quality < 0.40 :       337 elements\n",
      "Info    : 0.40 < quality < 0.50 :       542 elements\n",
      "Info    : 0.50 < quality < 0.60 :       922 elements\n",
      "Info    : 0.60 < quality < 0.70 :      2047 elements\n",
      "Info    : 0.70 < quality < 0.80 :      4540 elements\n",
      "Info    : 0.80 < quality < 0.90 :      6402 elements\n",
      "Info    : 0.90 < quality < 1.00 :      2733 elements\n",
      "Info    : 399 edge swaps, 15 node relocations (volume = 3.65746): worst = 0.0119047 / average = 0.778633 (Wall 0.00730654s, CPU 0.006917s)\n",
      "Info    : 404 edge swaps, 15 node relocations (volume = 3.65746): worst = 0.0119047 / average = 0.778794 (Wall 0.00940182s, CPU 0.008942s)\n",
      "Info    : No ill-shaped tets in the mesh :-)\n",
      "Info    : 0.00 < quality < 0.10 :         1 elements\n",
      "Info    : 0.10 < quality < 0.20 :         0 elements\n",
      "Info    : 0.20 < quality < 0.30 :         0 elements\n",
      "Info    : 0.30 < quality < 0.40 :       331 elements\n",
      "Info    : 0.40 < quality < 0.50 :       515 elements\n",
      "Info    : 0.50 < quality < 0.60 :       907 elements\n",
      "Info    : 0.60 < quality < 0.70 :      2064 elements\n",
      "Info    : 0.70 < quality < 0.80 :      4552 elements\n",
      "Info    : 0.80 < quality < 0.90 :      6471 elements\n",
      "Info    : 0.90 < quality < 1.00 :      2724 elements\n",
      "Info    : Optimizing volume 2\n",
      "Info    : Optimization starts (volume = 0.516042) with worst = 0.0298272 / average = 0.761022:\n",
      "Info    : 0.00 < quality < 0.10 :         4 elements\n",
      "Info    : 0.10 < quality < 0.20 :        17 elements\n",
      "Info    : 0.20 < quality < 0.30 :        28 elements\n",
      "Info    : 0.30 < quality < 0.40 :        55 elements\n",
      "Info    : 0.40 < quality < 0.50 :        87 elements\n",
      "Info    : 0.50 < quality < 0.60 :       126 elements\n",
      "Info    : 0.60 < quality < 0.70 :       335 elements\n",
      "Info    : 0.70 < quality < 0.80 :       711 elements\n",
      "Info    : 0.80 < quality < 0.90 :       892 elements\n",
      "Info    : 0.90 < quality < 1.00 :       359 elements\n",
      "Info    : 49 edge swaps, 4 node relocations (volume = 0.516042): worst = 0.30312 / average = 0.772604 (Wall 0.00121157s, CPU 0.001604s)\n",
      "Info    : No ill-shaped tets in the mesh :-)\n",
      "Info    : 0.00 < quality < 0.10 :         0 elements\n",
      "Info    : 0.10 < quality < 0.20 :         0 elements\n",
      "Info    : 0.20 < quality < 0.30 :         0 elements\n",
      "Info    : 0.30 < quality < 0.40 :        58 elements\n",
      "Info    : 0.40 < quality < 0.50 :        81 elements\n",
      "Info    : 0.50 < quality < 0.60 :       116 elements\n",
      "Info    : 0.60 < quality < 0.70 :       341 elements\n",
      "Info    : 0.70 < quality < 0.80 :       715 elements\n",
      "Info    : 0.80 < quality < 0.90 :       901 elements\n",
      "Info    : 0.90 < quality < 1.00 :       359 elements\n",
      "Info    : Done optimizing mesh (Wall 0.0338797s, CPU 0.03297s)\n",
      "Info    : 4021 nodes 24026 elements\n",
      "Info    : Writing 'problem_one.msh'...\n",
      "Info    : Done writing 'problem_one.msh'\n"
     ]
    }
   ],
   "source": [
    "gmsh.model.mesh.field.setString(fieldTag, \"F\", \"0.99\")\n",
    "# Use this field as the background mesh field.\n",
    "gmsh.model.mesh.field.setAsBackgroundMesh(fieldTag)\n",
    "# Generate the 3D mesh\n",
    "Mesh()"
   ]
  },
  {
   "cell_type": "code",
   "execution_count": 133,
   "id": "6d30e4ad-c0df-4bd6-b7ec-f418a9a6dbae",
   "metadata": {},
   "outputs": [
    {
     "name": "stdout",
     "output_type": "stream",
     "text": [
      "Info    : Writing 'vtk_meshes/two_spheres.msh'...\n",
      "Info    : Done writing 'vtk_meshes/two_spheres.msh'\n"
     ]
    }
   ],
   "source": [
    "# Save mesh in VTK format\n",
    "gmsh.write(\"vtk_meshes/two_spheres.msh\")"
   ]
  },
  {
   "cell_type": "code",
   "execution_count": 123,
   "id": "59904341-7b3b-4184-bfe4-78921dca36d2",
   "metadata": {},
   "outputs": [],
   "source": [
    "gmsh.finalize()"
   ]
  },
  {
   "cell_type": "code",
   "execution_count": null,
   "id": "e8d77293-88a9-4b7e-a77d-4cd2eafb7cbf",
   "metadata": {},
   "outputs": [],
   "source": []
  },
  {
   "cell_type": "code",
   "execution_count": null,
   "id": "5e32c48b-a0a1-45a8-9a1d-639900849503",
   "metadata": {},
   "outputs": [],
   "source": []
  }
 ],
 "metadata": {
  "kernelspec": {
   "display_name": "Python 3 (ipykernel)",
   "language": "python",
   "name": "python3"
  },
  "language_info": {
   "codemirror_mode": {
    "name": "ipython",
    "version": 3
   },
   "file_extension": ".py",
   "mimetype": "text/x-python",
   "name": "python",
   "nbconvert_exporter": "python",
   "pygments_lexer": "ipython3",
   "version": "3.10.12"
  }
 },
 "nbformat": 4,
 "nbformat_minor": 5
}
