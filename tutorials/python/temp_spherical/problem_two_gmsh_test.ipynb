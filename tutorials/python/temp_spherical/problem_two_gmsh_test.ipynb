{
 "cells": [
  {
   "cell_type": "markdown",
   "metadata": {},
   "source": [
    "# Problem 1\n",
    "\n",
    "This is a simulation of Problem 1 from https://www.osti.gov/servlets/purl/1769096\n",
    "\n",
    "It is a simple trasport problem consisting of a constant absorption by a sphere of a boundary source."
   ]
  },
  {
   "cell_type": "code",
   "execution_count": 1,
   "metadata": {
    "vscode": {
     "languageId": "plaintext"
    }
   },
   "outputs": [],
   "source": [
    "import os\n",
    "import sys"
   ]
  },
  {
   "cell_type": "markdown",
   "metadata": {},
   "source": [
    "## Using this Notebook\n",
    "Before running this example, make sure that the **Python module of OpenSn** was installed.\n",
    "\n",
    "### Converting and Running this Notebook from the Terminal\n",
    "To run this notebook from the terminal, simply type:\n",
    "\n",
    "`jupyter nbconvert --to python --execute problem_one.ipynb`.\n",
    "\n",
    "To run this notebook in parallel (for example, using 4 processes), simply type:\n",
    "\n",
    "`mpiexec -n 4 jupyter nbconvert --to python --execute problem_1.ipynb`."
   ]
  },
  {
   "cell_type": "code",
   "execution_count": 2,
   "metadata": {
    "vscode": {
     "languageId": "plaintext"
    }
   },
   "outputs": [
    {
     "name": "stdout",
     "output_type": "stream",
     "text": [
      "Running the first spherical problem with 1 MPI processors.\n"
     ]
    }
   ],
   "source": [
    "from mpi4py import MPI\n",
    "size = MPI.COMM_WORLD.size\n",
    "rank = MPI.COMM_WORLD.rank\n",
    "\n",
    "if rank == 0:\n",
    "    print(f\"Running the first spherical problem with {size} MPI processors.\")"
   ]
  },
  {
   "cell_type": "markdown",
   "metadata": {},
   "source": [
    "## Import Requirements\n",
    "\n",
    "Import required classes and functions from the Python interface of OpenSn. Make sure that the path\n",
    "to PyOpenSn is appended to Python's PATH."
   ]
  },
  {
   "cell_type": "code",
   "execution_count": 3,
   "metadata": {
    "vscode": {
     "languageId": "plaintext"
    }
   },
   "outputs": [
    {
     "name": "stdout",
     "output_type": "stream",
     "text": [
      "OpenSn version 0.0.1\n",
      "2025-05-10 12:44:02 Running OpenSn with 1 processes.\n",
      "\n"
     ]
    }
   ],
   "source": [
    "# assuming that the execute dir is the notebook dir\n",
    "# this line is not necessary when PyOpenSn is installed using pip\n",
    "# sys.path.append(\"../../../..\")\n",
    "\n",
    "from pyopensn.mesh import OrthogonalMeshGenerator, KBAGraphPartitioner, FromFileMeshGenerator, PETScGraphPartitioner\n",
    "from pyopensn.xs import MultiGroupXS\n",
    "from pyopensn.source import VolumetricSource\n",
    "from pyopensn.aquad import GLCProductQuadrature3DXYZ, GLCProductQuadrature2DRZ\n",
    "from pyopensn.solver import DiscreteOrdinatesProblem, SteadyStateSolver, DiscreteOrdinatesCurvilinearProblem\n",
    "from pyopensn.diffusion import DFEMDiffusionSolver, CFEMDiffusionSolver\n",
    "from pyopensn.fieldfunc import FieldFunctionInterpolationVolume, FieldFunctionGridBased\n",
    "from pyopensn.context import UseColor, Finalize\n",
    "from pyopensn.logvol import SphereLogicalVolume, BooleanLogicalVolume, RPPLogicalVolume\n",
    "from pyopensn.math import Vector3, ScalarSpatialMaterialFunction"
   ]
  },
  {
   "cell_type": "code",
   "execution_count": 4,
   "metadata": {},
   "outputs": [],
   "source": [
    "from scipy.special import exp2\n",
    "import numpy as np\n",
    "import math"
   ]
  },
  {
   "cell_type": "markdown",
   "metadata": {},
   "source": [
    "##### Disable colorized output."
   ]
  },
  {
   "cell_type": "code",
   "execution_count": 5,
   "metadata": {
    "vscode": {
     "languageId": "plaintext"
    }
   },
   "outputs": [],
   "source": [
    "UseColor(False)"
   ]
  },
  {
   "cell_type": "markdown",
   "metadata": {},
   "source": [
    "### File Mesh Generation\n",
    "\n",
    "This time the problem is solved using a GMSH mesh and is imported into OpenSn below."
   ]
  },
  {
   "cell_type": "code",
   "execution_count": 6,
   "metadata": {
    "vscode": {
     "languageId": "plaintext"
    }
   },
   "outputs": [
    {
     "name": "stdout",
     "output_type": "stream",
     "text": [
      "[0]  FromFileMeshGenerator: Generating UnpartitionedMesh\n",
      "[0]  Making unpartitioned mesh from Gmsh file ./vtk_meshes/two_spheres.msh (format v2.2)\n",
      "[0]  Mesh identified as 3D.\n",
      "[0]  Done checking cell-center-to-face orientations\n",
      "[0]  00:00:02.4 Establishing cell connectivity.\n",
      "[0]  00:00:02.4 Vertex cell subscriptions complete.\n",
      "[0]  00:00:02.5 Surpassing cell 2014 of 20138 (10%)\n",
      "[0]  00:00:02.6 Surpassing cell 4028 of 20138 (20%)\n",
      "[0]  00:00:02.6 Surpassing cell 6042 of 20138 (30%)\n",
      "[0]  00:00:02.7 Surpassing cell 8056 of 20138 (40%)\n",
      "[0]  00:00:02.7 Surpassing cell 10069 of 20138 (50%)\n",
      "[0]  00:00:02.8 Surpassing cell 12083 of 20138 (60%)\n",
      "[0]  00:00:02.8 Surpassing cell 14097 of 20138 (70%)\n",
      "[0]  00:00:02.8 Surpassing cell 16111 of 20138 (80%)\n",
      "[0]  00:00:02.8 Surpassing cell 18125 of 20138 (90%)\n",
      "[0]  00:00:02.9 Surpassing cell 20138 of 20138 (100%)\n",
      "[0]  00:00:02.9 Establishing cell boundary connectivity.\n",
      "[0]  00:00:02.9 Done establishing cell connectivity.\n",
      "[0]  Done processing ./vtk_meshes/two_spheres.msh.\n",
      "[0]  Number of nodes read: 4021\n",
      "[0]  Number of cells read: 20138\n",
      "[0]  Number of cells per partition (max,min,avg) = 20138,20138,20138\n",
      "[0]  \n",
      "[0]  Mesh statistics:\n",
      "[0]    Global cell count             : 20138\n",
      "[0]    Local cell count (avg,max,min): 20138,20138,20138\n",
      "[0]    Ghost-to-local ratio (avg)    : 0\n",
      "[0]  \n",
      "[0]  Exporting mesh to VTK files with base Read_3D_gmsh\n",
      "[0]  Done exporting mesh to VTK.\n"
     ]
    }
   ],
   "source": [
    "meshgen = FromFileMeshGenerator(\n",
    "    filename=\"./vtk_meshes/two_spheres.msh\",\n",
    "    partitioner=PETScGraphPartitioner(type='parmetis'),\n",
    ")\n",
    "grid = meshgen.Execute()\n",
    "\n",
    "# Export\n",
    "grid.ExportToPVTU(\"Read_3D_gmsh\")"
   ]
  },
  {
   "cell_type": "code",
   "execution_count": 7,
   "metadata": {
    "vscode": {
     "languageId": "plaintext"
    }
   },
   "outputs": [
    {
     "name": "stdout",
     "output_type": "stream",
     "text": [
      "[0]  00:00:03.8 Done setting block id 1 to all cells\n"
     ]
    }
   ],
   "source": [
    "grid.SetUniformBlockID(1)"
   ]
  },
  {
   "cell_type": "code",
   "execution_count": 18,
   "metadata": {},
   "outputs": [],
   "source": [
    "def mat_id_function(pt, cur_id):\n",
    "    if ((pt.x ** 2 + pt.y ** 2 + pt.z ** 2) ** (1/2)) < 0.5:\n",
    "        return 0\n",
    "    return cur_id"
   ]
  },
  {
   "cell_type": "code",
   "execution_count": 19,
   "metadata": {},
   "outputs": [],
   "source": [
    "grid.SetBlockIDFromFunction(mat_id_function)"
   ]
  },
  {
   "cell_type": "code",
   "execution_count": 7,
   "metadata": {},
   "outputs": [],
   "source": [
    "D = [0.,100000., 100000.]\n",
    "Q = [0.,1.0, 0.]\n",
    "XSa = [0.,0., 0.]\n",
    "\n",
    "def D_coef(i, pt):\n",
    "    return D[i]\n",
    "\n",
    "def Q_ext(i, pt):\n",
    "    return Q[i]\n",
    "\n",
    "def Sigma_a(i, pt):\n",
    "    return XSa[i]"
   ]
  },
  {
   "cell_type": "code",
   "execution_count": 8,
   "metadata": {},
   "outputs": [],
   "source": [
    "d_coef_fn = ScalarSpatialMaterialFunction(D_coef)\n",
    "Q_ext_fn = ScalarSpatialMaterialFunction(Q_ext)\n",
    "Sigma_a_fn = ScalarSpatialMaterialFunction(Sigma_a)"
   ]
  },
  {
   "cell_type": "code",
   "execution_count": 9,
   "metadata": {},
   "outputs": [],
   "source": [
    "sphere_vol = SphereLogicalVolume(r=0.5)\n",
    "\n",
    "sphere_bndry = \"0\"\n",
    "\n",
    "grid.SetBoundaryIDFromLogicalVolume(sphere_vol, sphere_bndry, True)\n",
    "\n",
    "outer_vol = SphereLogicalVolume()\n",
    "\n",
    "outer_bndry = \"1\"\n",
    "\n",
    "grid.SetBoundaryIDFromLogicalVolume(outer_vol, outer_bndry, True)"
   ]
  },
  {
   "cell_type": "code",
   "execution_count": 10,
   "metadata": {
    "vscode": {
     "languageId": "plaintext"
    }
   },
   "outputs": [
    {
     "name": "stdout",
     "output_type": "stream",
     "text": [
      "[0]  Boundary 0 set as Dirichlet with value 0.5\n",
      "[0]  Boundary 1 set as Vacuum.\n"
     ]
    }
   ],
   "source": [
    "phys = DFEMDiffusionSolver(\n",
    "    name=\"problem_one\",\n",
    "    mesh=grid,\n",
    ")\n",
    "phys.SetOptions(boundary_conditions=[\n",
    "    {\"boundary\": sphere_bndry, \"type\": \"dirichlet\", \"coeffs\":[0.5]},\n",
    "    {\"boundary\": outer_bndry, \"type\": \"vacuum\"}\n",
    "    \n",
    "])\n",
    "phys.SetDCoefFunction(d_coef_fn)\n",
    "phys.SetQExtFunction(Q_ext_fn)\n",
    "phys.SetSigmaAFunction(Sigma_a_fn)"
   ]
  },
  {
   "cell_type": "code",
   "execution_count": 11,
   "metadata": {},
   "outputs": [
    {
     "name": "stdout",
     "output_type": "stream",
     "text": [
      "[0]  \n",
      "[0]  00:00:16.2 problem_one: Initializing DFEM Diffusion solver \n",
      "[0]  Global num cells: 20138\n",
      "[0]  Boundary 1 set to robin.0.25,0.5,0\n",
      "[0]  Num local DOFs: 80552\n",
      "[0]  Num globl DOFs: 80552\n",
      "[0]  \n",
      "[0]  Executing DFEM IP Diffusion solver\n",
      "[0]  Assembling system: \n",
      "[0]  Global assembly\n",
      "[0]  Done global assembly\n",
      "[0]  Solving: \n",
      "[0]  problem_one iteration    0 - Residual 4.3443229e+03\n",
      "[0]  problem_one iteration    1 - Residual 1.0062408e-03\n",
      "[0]  Done solving\n"
     ]
    }
   ],
   "source": [
    "phys.Initialize()\n",
    "phys.Execute()"
   ]
  },
  {
   "cell_type": "code",
   "execution_count": 12,
   "metadata": {},
   "outputs": [
    {
     "name": "stdout",
     "output_type": "stream",
     "text": [
      "[0]  Exporting field functions to VTK with file base \"problem_one\"\n",
      "[0]  Done exporting field functions to VTK.\n"
     ]
    }
   ],
   "source": [
    "fflist = phys.GetFieldFunctions()\n",
    "vtk_basename = \"problem_one\"\n",
    "FieldFunctionGridBased.ExportMultipleToVTK(\n",
    "    [fflist[0]],  # export only the flux of group 0 (first []), moment 0 (second [])\n",
    "    vtk_basename\n",
    ")"
   ]
  },
  {
   "cell_type": "code",
   "execution_count": 13,
   "metadata": {},
   "outputs": [],
   "source": [
    "def average_vol(vol0, r1, r2):\n",
    "    ffvol = FieldFunctionInterpolationVolume()\n",
    "    ffvol.SetOperationType(\"avg\")\n",
    "    ffvol.SetLogicalVolume(vol0)\n",
    "    ffvol.AddFieldFunction(fflist[0])\n",
    "    ffvol.Initialize()\n",
    "    ffvol.Execute()\n",
    "    avgval = ffvol.GetValue()\n",
    "    print(\"Radius: {:.2f} {:.2f} {:.6f}\".format(r1, r2, avgval))\n",
    "    return avgval\n",
    "\n",
    "def create_vols(N_vols, rmax):\n",
    "    r_vals = np.linspace(0, rmax, N_vols + 1)\n",
    "    vols = np.empty(N_vols)\n",
    "    avgphi = np.zeros(N_vols)\n",
    "    for i in range(N_vols):\n",
    "        if i != 0:\n",
    "            inner_vol = SphereLogicalVolume(r=r_vals[i])\n",
    "            outer_vol = SphereLogicalVolume(r=r_vals[i + 1])\n",
    "            vol = BooleanLogicalVolume(parts=[{\"op\":True,\"lv\":outer_vol},{\"op\":False,\"lv\":inner_vol}])\n",
    "        else:\n",
    "            vol = SphereLogicalVolume(r=r_vals[i + 1])\n",
    "        avgphi[i] = average_vol(vol, r_vals[i], r_vals[i+1])\n",
    "    return avgphi"
   ]
  },
  {
   "cell_type": "code",
   "execution_count": 14,
   "metadata": {},
   "outputs": [
    {
     "name": "stdout",
     "output_type": "stream",
     "text": [
      "Radius: 0.00 0.10 0.082297\n",
      "Radius: 0.10 0.20 0.082297\n",
      "Radius: 0.20 0.30 0.082297\n",
      "Radius: 0.30 0.40 0.082297\n",
      "Radius: 0.40 0.50 0.082297\n",
      "Radius: 0.50 0.60 0.082297\n",
      "Radius: 0.60 0.70 0.082297\n",
      "Radius: 0.70 0.80 0.082297\n",
      "Radius: 0.80 0.90 0.082297\n",
      "Radius: 0.90 1.00 0.082297\n"
     ]
    }
   ],
   "source": [
    "n_vols = 10\n",
    "sim_vals = create_vols(n_vols, 1)"
   ]
  },
  {
   "cell_type": "code",
   "execution_count": 15,
   "metadata": {},
   "outputs": [],
   "source": [
    "def get_phi(r, q, a):\n",
    "    phi = q*(a+(a**2 - r**2)/(2*r)*math.log((a+r)/(abs(r-a)), 10))\n",
    "    return phi              "
   ]
  },
  {
   "cell_type": "code",
   "execution_count": 16,
   "metadata": {},
   "outputs": [
    {
     "name": "stdout",
     "output_type": "stream",
     "text": [
      "0.05 0.11390666515699852\n",
      "0.15 0.11202508399960438\n",
      "0.25 0.10805354884951328\n",
      "0.35 0.10141563910932869\n",
      "0.44999999999999996 0.09031880258810289\n",
      "0.5499999999999999 0.06953385229872941\n",
      "0.65 0.06089578655122078\n",
      "0.75 0.05640152753281415\n",
      "0.85 0.053643589744471414\n",
      "0.95 0.05180313667985476\n"
     ]
    }
   ],
   "source": [
    "q = 1/(2*math.pi)\n",
    "a = 0.5\n",
    "r_vals = np.linspace(0.05, 0.95, n_vols)\n",
    "phi = np.zeros(n_vols)\n",
    "for i in range(n_vols):\n",
    "    phi[i] = get_phi(r_vals[i], q, a)\n",
    "    print(r_vals[i], phi[i])"
   ]
  },
  {
   "cell_type": "code",
   "execution_count": 17,
   "metadata": {},
   "outputs": [
    {
     "name": "stdout",
     "output_type": "stream",
     "text": [
      "[0.27750871 0.26537372 0.2383724  0.18852202 0.08882152 0.18354639\n",
      " 0.35143231 0.45911879 0.5341353  0.58863973]\n"
     ]
    }
   ],
   "source": [
    "err = np.zeros(n_vols)\n",
    "err[:] = abs(phi[:]-sim_vals[:])/phi[:]\n",
    "print(err)"
   ]
  },
  {
   "cell_type": "markdown",
   "metadata": {},
   "source": [
    "## Finalize (for Jupyter Notebook only)\n",
    "\n",
    "In Python script mode, PyOpenSn automatically handles environment termination. However, this\n",
    "automatic finalization does not occur when running in a Jupyter notebook, so explicit finalization\n",
    "of the environment at the end of the notebook is required. Do not call the finalization in Python\n",
    "script mode, or in console mode.\n",
    "\n",
    "Note that PyOpenSn's finalization must be called before MPI's finalization.\n"
   ]
  },
  {
   "cell_type": "code",
   "execution_count": 52,
   "metadata": {
    "vscode": {
     "languageId": "plaintext"
    }
   },
   "outputs": [
    {
     "name": "stdout",
     "output_type": "stream",
     "text": [
      "\n",
      "Elapsed execution time: 00:19:26.3\n",
      "2025-05-10 12:43:50 OpenSn finished execution.\n"
     ]
    }
   ],
   "source": [
    "from IPython import get_ipython\n",
    "\n",
    "def finalize_env():\n",
    "    Finalize()\n",
    "    MPI.Finalize()\n",
    "\n",
    "ipython_instance = get_ipython()\n",
    "if ipython_instance is not None:\n",
    "    ipython_instance.events.register(\"post_execute\", finalize_env)"
   ]
  },
  {
   "cell_type": "code",
   "execution_count": null,
   "metadata": {},
   "outputs": [],
   "source": []
  }
 ],
 "metadata": {
  "kernelspec": {
   "display_name": "Python 3 (ipykernel)",
   "language": "python",
   "name": "python3"
  },
  "language_info": {
   "codemirror_mode": {
    "name": "ipython",
    "version": 3
   },
   "file_extension": ".py",
   "mimetype": "text/x-python",
   "name": "python",
   "nbconvert_exporter": "python",
   "pygments_lexer": "ipython3",
   "version": "3.10.12"
  }
 },
 "nbformat": 4,
 "nbformat_minor": 4
}
