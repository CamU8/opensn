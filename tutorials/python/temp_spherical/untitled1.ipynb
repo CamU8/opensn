# -*- coding: utf-8 -*-
"""
Created on Wed Apr 30 14:22:37 2025

@author: camde
"""

