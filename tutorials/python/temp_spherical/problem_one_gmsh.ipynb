{
 "cells": [
  {
   "cell_type": "code",
   "execution_count": 1,
   "metadata": {
    "vscode": {
     "languageId": "plaintext"
    }
   },
   "outputs": [],
   "source": [
    "import os\n",
    "import sys"
   ]
  },
  {
   "cell_type": "markdown",
   "metadata": {},
   "source": [
    "## Using this Notebook\n",
    "Before running this example, make sure that the **Python module of OpenSn** was installed.\n",
    "\n",
    "### Converting and Running this Notebook from the Terminal\n",
    "To run this notebook from the terminal, simply type:\n",
    "\n",
    "`jupyter nbconvert --to python --execute problem_one.ipynb`.\n",
    "\n",
    "To run this notebook in parallel (for example, using 4 processes), simply type:\n",
    "\n",
    "`mpiexec -n 4 jupyter nbconvert --to python --execute problem_1.ipynb`."
   ]
  },
  {
   "cell_type": "code",
   "execution_count": 2,
   "metadata": {
    "vscode": {
     "languageId": "plaintext"
    }
   },
   "outputs": [
    {
     "name": "stdout",
     "output_type": "stream",
     "text": [
      "Running the first spherical problem with 1 MPI processors.\n"
     ]
    }
   ],
   "source": [
    "from mpi4py import MPI\n",
    "size = MPI.COMM_WORLD.size\n",
    "rank = MPI.COMM_WORLD.rank\n",
    "\n",
    "if rank == 0:\n",
    "    print(f\"Running the first spherical problem with {size} MPI processors.\")"
   ]
  },
  {
   "cell_type": "markdown",
   "metadata": {},
   "source": [
    "## Import Requirements\n",
    "\n",
    "Import required classes and functions from the Python interface of OpenSn. Make sure that the path\n",
    "to PyOpenSn is appended to Python's PATH."
   ]
  },
  {
   "cell_type": "code",
   "execution_count": 3,
   "metadata": {
    "vscode": {
     "languageId": "plaintext"
    }
   },
   "outputs": [
    {
     "name": "stdout",
     "output_type": "stream",
     "text": [
      "OpenSn version 0.0.1\n",
      "2025-05-10 15:58:19 Running OpenSn with 1 processes.\n",
      "\n"
     ]
    }
   ],
   "source": [
    "# assuming that the execute dir is the notebook dir\n",
    "# this line is not necessary when PyOpenSn is installed using pip\n",
    "# sys.path.append(\"../../../..\")\n",
    "\n",
    "from pyopensn.mesh import OrthogonalMeshGenerator, KBAGraphPartitioner, FromFileMeshGenerator, PETScGraphPartitioner\n",
    "from pyopensn.xs import MultiGroupXS\n",
    "from pyopensn.source import VolumetricSource\n",
    "from pyopensn.aquad import GLCProductQuadrature3DXYZ, GLCProductQuadrature2DRZ\n",
    "from pyopensn.solver import DiscreteOrdinatesProblem, SteadyStateSolver, DiscreteOrdinatesCurvilinearProblem\n",
    "from pyopensn.diffusion import DFEMDiffusionSolver, CFEMDiffusionSolver\n",
    "from pyopensn.fieldfunc import FieldFunctionInterpolationVolume, FieldFunctionGridBased\n",
    "from pyopensn.context import UseColor, Finalize\n",
    "from pyopensn.logvol import SphereLogicalVolume, BooleanLogicalVolume, RPPLogicalVolume\n",
    "from pyopensn.math import Vector3, ScalarSpatialMaterialFunction"
   ]
  },
  {
   "cell_type": "code",
   "execution_count": 4,
   "metadata": {},
   "outputs": [],
   "source": [
    "from scipy.special import exp1\n",
    "import numpy as np\n",
    "import math"
   ]
  },
  {
   "cell_type": "code",
   "execution_count": 5,
   "metadata": {},
   "outputs": [],
   "source": [
    "import matplotlib.pyplot as plt"
   ]
  },
  {
   "cell_type": "markdown",
   "metadata": {},
   "source": [
    "##### Disable colorized output."
   ]
  },
  {
   "cell_type": "code",
   "execution_count": 6,
   "metadata": {
    "vscode": {
     "languageId": "plaintext"
    }
   },
   "outputs": [],
   "source": [
    "UseColor(False)"
   ]
  },
  {
   "cell_type": "code",
   "execution_count": 7,
   "metadata": {
    "vscode": {
     "languageId": "plaintext"
    }
   },
   "outputs": [
    {
     "name": "stdout",
     "output_type": "stream",
     "text": [
      "[0]  FromFileMeshGenerator: Generating UnpartitionedMesh\n",
      "[0]  Making unpartitioned mesh from Gmsh file ./vtk_meshes/two_spheres.msh (format v2.2)\n",
      "[0]  Mesh identified as 3D.\n",
      "[0]  Done checking cell-center-to-face orientations\n",
      "[0]  00:00:03.7 Establishing cell connectivity.\n",
      "[0]  00:00:03.7 Vertex cell subscriptions complete.\n",
      "[0]  00:00:03.8 Surpassing cell 2014 of 20138 (10%)\n",
      "[0]  00:00:03.8 Surpassing cell 4028 of 20138 (20%)\n",
      "[0]  00:00:03.9 Surpassing cell 6042 of 20138 (30%)\n",
      "[0]  00:00:04.0 Surpassing cell 8056 of 20138 (40%)\n",
      "[0]  00:00:04.0 Surpassing cell 10069 of 20138 (50%)\n",
      "[0]  00:00:04.0 Surpassing cell 12083 of 20138 (60%)\n",
      "[0]  00:00:04.1 Surpassing cell 14097 of 20138 (70%)\n",
      "[0]  00:00:04.1 Surpassing cell 16111 of 20138 (80%)\n",
      "[0]  00:00:04.1 Surpassing cell 18125 of 20138 (90%)\n",
      "[0]  00:00:04.1 Surpassing cell 20138 of 20138 (100%)\n",
      "[0]  00:00:04.1 Establishing cell boundary connectivity.\n",
      "[0]  00:00:04.1 Done establishing cell connectivity.\n",
      "[0]  Done processing ./vtk_meshes/two_spheres.msh.\n",
      "[0]  Number of nodes read: 4021\n",
      "[0]  Number of cells read: 20138\n",
      "[0]  Number of cells per partition (max,min,avg) = 20138,20138,20138\n",
      "[0]  \n",
      "[0]  Mesh statistics:\n",
      "[0]    Global cell count             : 20138\n",
      "[0]    Local cell count (avg,max,min): 20138,20138,20138\n",
      "[0]    Ghost-to-local ratio (avg)    : 0\n",
      "[0]  \n",
      "[0]  Exporting mesh to VTK files with base Read_3D_gmsh\n",
      "[0]  Done exporting mesh to VTK.\n"
     ]
    }
   ],
   "source": [
    "meshgen = FromFileMeshGenerator(\n",
    "    filename=\"./vtk_meshes/two_spheres.msh\",\n",
    "    partitioner=PETScGraphPartitioner(type='parmetis'),\n",
    ")\n",
    "grid = meshgen.Execute()"
   ]
  },
  {
   "cell_type": "code",
   "execution_count": 8,
   "metadata": {
    "vscode": {
     "languageId": "plaintext"
    }
   },
   "outputs": [
    {
     "name": "stdout",
     "output_type": "stream",
     "text": [
      "[0]  00:00:05.5 Done setting block id 0 to all cells\n"
     ]
    }
   ],
   "source": [
    "grid.SetUniformBlockID(0)"
   ]
  },
  {
   "cell_type": "code",
   "execution_count": 9,
   "metadata": {
    "vscode": {
     "languageId": "plaintext"
    }
   },
   "outputs": [],
   "source": [
    "xs_mat = MultiGroupXS()\n",
    "xs_mat.CreateSimpleOneGroup(sigma_t=1.,c=0.0)\n",
    "\n",
    "bsrc = [1.]"
   ]
  },
  {
   "cell_type": "code",
   "execution_count": 10,
   "metadata": {
    "vscode": {
     "languageId": "plaintext"
    }
   },
   "outputs": [
    {
     "data": {
      "text/plain": [
       "'\\n{\"boundary\":sphere_bndry, \"type\": \"dirichlet\", \"coeffs\": [1.]},\\n'"
      ]
     },
     "execution_count": 10,
     "metadata": {},
     "output_type": "execute_result"
    }
   ],
   "source": [
    "nazimu = 4\n",
    "npolar = 2\n",
    "pquad = GLCProductQuadrature3DXYZ(npolar, nazimu)"
   ]
  },
  {
   "cell_type": "code",
   "execution_count": 11,
   "metadata": {
    "vscode": {
     "languageId": "plaintext"
    }
   },
   "outputs": [],
   "source": [
    "phys = DiscreteOrdinatesProblem(\n",
    "    mesh=grid,\n",
    "    num_groups=1,\n",
    "    groupsets=[\n",
    "        {\n",
    "            \"groups_from_to\": (0, 0),\n",
    "            \"angular_quadrature\": pquad,\n",
    "            \"angle_aggregation_type\": \"single\",\n",
    "            \"angle_aggregation_num_subsets\": 1,\n",
    "            \"inner_linear_method\": \"petsc_gmres\",\n",
    "            \"l_abs_tol\": 1.0e-6,\n",
    "            \"l_max_its\": 300,\n",
    "            \"gmres_restart_interval\": 30\n",
    "        }\n",
    "    ],\n",
    "    options={\n",
    "        \"scattering_order\": 0,\n",
    "        \"boundary_conditions\": [\n",
    "            {\"name\":\"xmin\", \"type\":\"isotropic\", \"group_strength\":bsrc},\n",
    "            {\"name\":\"xmax\", \"type\":\"isotropic\", \"group_strength\":bsrc},\n",
    "            {\"name\":\"ymin\", \"type\":\"isotropic\", \"group_strength\":bsrc},\n",
    "            {\"name\":\"ymax\", \"type\":\"isotropic\", \"group_strength\":bsrc},\n",
    "            {\"name\":\"zmin\", \"type\":\"isotropic\", \"group_strength\":bsrc},\n",
    "            {\"name\":\"zmax\", \"type\":\"isotropic\", \"group_strength\":bsrc}\n",
    "        ]\n",
    "    },\n",
    "    xs_map=[\n",
    "        {\n",
    "            \"block_ids\": [0],\n",
    "            \"xs\": xs_mat\n",
    "        }\n",
    "    ]\n",
    ")"
   ]
  },
  {
   "cell_type": "code",
   "execution_count": 12,
   "metadata": {},
   "outputs": [
    {
     "name": "stdout",
     "output_type": "stream",
     "text": [
      "[0]  \n",
      "[0]  Initializing LBS SteadyStateSolver with name: LBSDiscreteOrdinatesProblem\n",
      "[0]  \n",
      "[0]  Scattering order    : 0\n",
      "[0]  Number of Groups    : 1\n",
      "[0]  Number of Group sets: 1\n",
      "[0]  \n",
      "[0]  ***** Groupset 0 *****\n",
      "[0]  Groups:\n",
      "[0]      0 \n",
      "[0]  \n",
      "[0]  Initializing spatial discretization.\n",
      "[0]  Computing unit integrals.\n",
      "[0]  Ghost cell unit cell-matrix ratio: 0%\n",
      "[0]  Cell matrices computed.\n",
      "[0]  Initializing parallel arrays. G=1 M=1\n",
      "[0]  Done with parallel arrays.\n",
      "[0]  00:00:12.4 Initializing sweep datastructures.\n",
      "[0]  00:00:13.8 Done initializing sweep datastructures.\n",
      "[0]  00:00:13.8 Initialized angle aggregation.\n",
      "[0]  Initializing WGS and AGS solvers\n",
      "[0]  \n",
      "[0]  \n",
      "[0]  ********** Solving groupset 0 with PETSC_GMRES.\n",
      "[0]  \n",
      "[0]  Quadrature number of angles: 8\n",
      "[0]  Groups 0 0\n",
      "[0]  \n",
      "[0]  Total number of angular unknowns: 644416\n",
      "[0]  Number of lagged angular unknowns: 0(0%)\n",
      "[0]  00:00:13.8 Computing b\n",
      "[0]  00:00:14.2 WGS groups [0-0] Iteration     0 Residual         1\n",
      "[0]  00:00:14.5 WGS groups [0-0] Iteration     1 Residual 1.45741e-15 CONVERGED\n",
      "[0]  \n",
      "[0]  \n",
      "[0]         Average sweep time (s):        0.365105\n",
      "[0]         Sweep Time/Unknown (ns):       566.568\n",
      "[0]         Number of unknowns per sweep:  644416\n",
      "[0]  \n"
     ]
    }
   ],
   "source": [
    "ss_solver = SteadyStateSolver(lbs_problem=phys)\n",
    "ss_solver.Initialize()\n",
    "ss_solver.Execute()"
   ]
  },
  {
   "cell_type": "code",
   "execution_count": 13,
   "metadata": {},
   "outputs": [
    {
     "name": "stdout",
     "output_type": "stream",
     "text": [
      "[0]  Exporting field functions to VTK with file base \"problem_one\"\n",
      "[0]  Done exporting field functions to VTK.\n"
     ]
    }
   ],
   "source": [
    "fflist = phys.GetFieldFunctions()"
   ]
  },
  {
   "cell_type": "code",
   "execution_count": 14,
   "metadata": {},
   "outputs": [],
   "source": [
    "def average_vol(vol0, r1, r2):\n",
    "    ffvol = FieldFunctionInterpolationVolume()\n",
    "    ffvol.SetOperationType(\"avg\")\n",
    "    ffvol.SetLogicalVolume(vol0)\n",
    "    ffvol.AddFieldFunction(fflist[0])\n",
    "    ffvol.Initialize()\n",
    "    ffvol.Execute()\n",
    "    avgval = ffvol.GetValue()\n",
    "    print(\"Radius: {:.2f} {:.2f} {:.6f}\".format(r1, r2, avgval))\n",
    "    return avgval\n",
    "\n",
    "def create_vols(N_vols, rmax):\n",
    "    r_vals = np.linspace(0, rmax, N_vols + 1)\n",
    "    vols = np.empty(N_vols)\n",
    "    avgphi = np.zeros(N_vols)\n",
    "    for i in range(N_vols):\n",
    "        if i != 0:\n",
    "            inner_vol = SphereLogicalVolume(r=r_vals[i])\n",
    "            outer_vol = SphereLogicalVolume(r=r_vals[i + 1])\n",
    "            vol = BooleanLogicalVolume(parts=[{\"op\":True,\"lv\":outer_vol},{\"op\":False,\"lv\":inner_vol}])\n",
    "        else:\n",
    "            vol = SphereLogicalVolume(r=r_vals[i + 1])\n",
    "        avgphi[i] = average_vol(vol, r_vals[i], r_vals[i+1])\n",
    "    return avgphi"
   ]
  },
  {
   "cell_type": "code",
   "execution_count": 15,
   "metadata": {},
   "outputs": [
    {
     "name": "stdout",
     "output_type": "stream",
     "text": [
      "Radius: 0.00 0.10 4.649935\n",
      "Radius: 0.10 0.20 4.698698\n",
      "Radius: 0.20 0.30 4.787865\n",
      "Radius: 0.30 0.40 4.928611\n",
      "Radius: 0.40 0.50 5.127681\n",
      "Radius: 0.50 0.60 5.458968\n",
      "Radius: 0.60 0.70 5.848814\n",
      "Radius: 0.70 0.80 6.316241\n",
      "Radius: 0.80 0.90 6.927330\n",
      "Radius: 0.90 1.00 8.012416\n"
     ]
    }
   ],
   "source": [
    "n_vols = 10\n",
    "sim_vals = create_vols(n_vols, 1)"
   ]
  },
  {
   "cell_type": "code",
   "execution_count": 16,
   "metadata": {},
   "outputs": [],
   "source": [
    "def E2(x):\n",
    "    return np.exp(-x)-x*exp1(x)\n",
    "\n",
    "def get_phi(r, psi, a, sig):\n",
    "    phi = (psi/(2*r))*((np.exp(-sig*(a-r))-np.exp(-sig*(a+r)))/sig + (r+a)*E2(sig*(a-r)) - (a-r)*E2(sig*(a+r)))\n",
    "    return phi        "
   ]
  },
  {
   "cell_type": "code",
   "execution_count": 17,
   "metadata": {},
   "outputs": [
    {
     "name": "stdout",
     "output_type": "stream",
     "text": [
      "0.05 4.628693097831409\n",
      "0.15 4.6753308278082395\n",
      "0.25 4.770626239129925\n",
      "0.35 4.918910817632189\n",
      "0.44999999999999996 5.127517234348343\n",
      "0.5499999999999999 5.4081598009986624\n",
      "0.65 5.779755485660106\n",
      "0.75 6.274859546623299\n",
      "0.85 6.957846880324336\n",
      "0.95 8.00685922605825\n"
     ]
    }
   ],
   "source": [
    "psi = 2*math.pi\n",
    "a = 1.\n",
    "sig = 1.\n",
    "r_vals = np.linspace(0.05, 0.95, n_vols)\n",
    "phi = np.zeros(n_vols)\n",
    "for i in range(n_vols):\n",
    "    phi[i] = get_phi(r_vals[i], psi, a, sig)\n",
    "    print(r_vals[i], phi[i])"
   ]
  },
  {
   "cell_type": "code",
   "execution_count": 19,
   "metadata": {},
   "outputs": [
    {
     "name": "stdout",
     "output_type": "stream",
     "text": [
      "[0.45891892 0.49978815 0.36134663 0.19719617 0.00318515 0.93946853\n",
      " 1.19483473 0.65947587 0.43859875 0.06940566]\n"
     ]
    }
   ],
   "source": [
    "err = np.zeros(n_vols)\n",
    "err[:] = 100*abs(phi[:]-sim_vals[:])/phi[:]\n",
    "print(err)"
   ]
  },
  {
   "cell_type": "code",
   "execution_count": 20,
   "metadata": {},
   "outputs": [
    {
     "data": {
      "image/png": "[encoded data removed]",
      "text/plain": [
       "<Figure size 640x480 with 1 Axes>"
      ]
     },
     "metadata": {},
     "output_type": "display_data"
    }
   ],
   "source": [
    "plt.figure(1)\n",
    "plt.plot(r_vals,phi)\n",
    "plt.plot(r_vals,sim_vals)\n",
    "plt.title(\"GMSH Simulation\")\n",
    "plt.xlabel(\"x (cm)\")\n",
    "plt.ylabel(\"Flux\") \n",
    "plt.legend([\"Real Values\", \"Simulated Values\"])\n",
    "plt.show()"
   ]
  },
  {
   "cell_type": "code",
   "execution_count": 21,
   "metadata": {},
   "outputs": [
    {
     "data": {
      "image/png": "[encoded data removed]",
      "text/plain": [
       "<Figure size 640x480 with 1 Axes>"
      ]
     },
     "metadata": {},
     "output_type": "display_data"
    }
   ],
   "source": [
    "plt.figure(2)\n",
    "plt.plot(r_vals,err)\n",
    "plt.title(\"GMSH Percent Error\")\n",
    "plt.ylabel(\"Error (%)\")\n",
    "plt.xlabel(\"x (cm)\")\n",
    "plt.show()"
   ]
  },
  {
   "cell_type": "markdown",
   "metadata": {},
   "source": [
    "## Finalize (for Jupyter Notebook only)\n",
    "\n",
    "In Python script mode, PyOpenSn automatically handles environment termination. However, this\n",
    "automatic finalization does not occur when running in a Jupyter notebook, so explicit finalization\n",
    "of the environment at the end of the notebook is required. Do not call the finalization in Python\n",
    "script mode, or in console mode.\n",
    "\n",
    "Note that PyOpenSn's finalization must be called before MPI's finalization.\n"
   ]
  },
  {
   "cell_type": "code",
   "execution_count": 30,
   "metadata": {
    "vscode": {
     "languageId": "plaintext"
    }
   },
   "outputs": [
    {
     "name": "stdout",
     "output_type": "stream",
     "text": [
      "\n",
      "Elapsed execution time: 00:14:28.9\n",
      "2025-05-10 15:27:07 OpenSn finished execution.\n"
     ]
    }
   ],
   "source": [
    "from IPython import get_ipython\n",
    "\n",
    "def finalize_env():\n",
    "    Finalize()\n",
    "    MPI.Finalize()\n",
    "\n",
    "ipython_instance = get_ipython()\n",
    "if ipython_instance is not None:\n",
    "    ipython_instance.events.register(\"post_execute\", finalize_env)"
   ]
  },
  {
   "cell_type": "code",
   "execution_count": null,
   "metadata": {},
   "outputs": [],
   "source": []
  }
 ],
 "metadata": {
  "kernelspec": {
   "display_name": "Python 3 (ipykernel)",
   "language": "python",
   "name": "python3"
  },
  "language_info": {
   "codemirror_mode": {
    "name": "ipython",
    "version": 3
   },
   "file_extension": ".py",
   "mimetype": "text/x-python",
   "name": "python",
   "nbconvert_exporter": "python",
   "pygments_lexer": "ipython3",
   "version": "3.10.12"
  }
 },
 "nbformat": 4,
 "nbformat_minor": 4
}
